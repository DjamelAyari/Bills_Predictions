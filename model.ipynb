{
 "cells": [
  {
   "cell_type": "markdown",
   "id": "96b46187",
   "metadata": {},
   "source": [
    "Je prends prends connaissance du projet le 20/06/2022.\n",
    "\n",
    "Je commence le projet le 02/07/2022.\n",
    "\n",
    "https://moonbooks.org/Articles/Comment-sauvegarder-dans-un-fichier-un-modele-developpe-avec-scikit-learn-en-python-machine-learning-/"
   ]
  },
  {
   "cell_type": "markdown",
   "id": "412e1b9c",
   "metadata": {},
   "source": [
    "# <center>Détection de faux billets</center>"
   ]
  },
  {
   "cell_type": "markdown",
   "id": "8f8d32d3",
   "metadata": {},
   "source": [
    "## <center>Importation des librairies</center>"
   ]
  },
  {
   "cell_type": "code",
   "execution_count": 114,
   "id": "2c0238cb",
   "metadata": {},
   "outputs": [],
   "source": [
    "import pandas as pd\n",
    "import numpy as np\n",
    "import matplotlib.pyplot as plt\n",
    "import seaborn as sns\n",
    "import warnings\n",
    "warnings.filterwarnings(\"ignore\")\n",
    "import joblib"
   ]
  },
  {
   "cell_type": "markdown",
   "id": "1f568a34",
   "metadata": {},
   "source": [
    "***"
   ]
  },
  {
   "cell_type": "markdown",
   "id": "1db56d8e",
   "metadata": {},
   "source": [
    "## <center>Importation du dataset</center>"
   ]
  },
  {
   "cell_type": "code",
   "execution_count": 115,
   "id": "531dec00",
   "metadata": {},
   "outputs": [
    {
     "data": {
      "text/html": [
       "<div>\n",
       "<style scoped>\n",
       "    .dataframe tbody tr th:only-of-type {\n",
       "        vertical-align: middle;\n",
       "    }\n",
       "\n",
       "    .dataframe tbody tr th {\n",
       "        vertical-align: top;\n",
       "    }\n",
       "\n",
       "    .dataframe thead th {\n",
       "        text-align: right;\n",
       "    }\n",
       "</style>\n",
       "<table border=\"1\" class=\"dataframe\">\n",
       "  <thead>\n",
       "    <tr style=\"text-align: right;\">\n",
       "      <th></th>\n",
       "      <th>is_genuine</th>\n",
       "      <th>diagonal</th>\n",
       "      <th>height_left</th>\n",
       "      <th>height_right</th>\n",
       "      <th>margin_low</th>\n",
       "      <th>margin_up</th>\n",
       "      <th>length</th>\n",
       "    </tr>\n",
       "  </thead>\n",
       "  <tbody>\n",
       "    <tr>\n",
       "      <th>1103</th>\n",
       "      <td>False</td>\n",
       "      <td>171.88</td>\n",
       "      <td>104.05</td>\n",
       "      <td>103.75</td>\n",
       "      <td>4.41</td>\n",
       "      <td>3.21</td>\n",
       "      <td>112.52</td>\n",
       "    </tr>\n",
       "    <tr>\n",
       "      <th>323</th>\n",
       "      <td>True</td>\n",
       "      <td>171.91</td>\n",
       "      <td>103.83</td>\n",
       "      <td>103.68</td>\n",
       "      <td>4.05</td>\n",
       "      <td>2.86</td>\n",
       "      <td>113.41</td>\n",
       "    </tr>\n",
       "    <tr>\n",
       "      <th>207</th>\n",
       "      <td>True</td>\n",
       "      <td>172.30</td>\n",
       "      <td>104.34</td>\n",
       "      <td>103.93</td>\n",
       "      <td>3.98</td>\n",
       "      <td>3.33</td>\n",
       "      <td>113.08</td>\n",
       "    </tr>\n",
       "    <tr>\n",
       "      <th>71</th>\n",
       "      <td>True</td>\n",
       "      <td>171.84</td>\n",
       "      <td>103.59</td>\n",
       "      <td>103.98</td>\n",
       "      <td>4.09</td>\n",
       "      <td>3.05</td>\n",
       "      <td>113.09</td>\n",
       "    </tr>\n",
       "    <tr>\n",
       "      <th>927</th>\n",
       "      <td>True</td>\n",
       "      <td>172.18</td>\n",
       "      <td>104.65</td>\n",
       "      <td>103.81</td>\n",
       "      <td>3.95</td>\n",
       "      <td>3.07</td>\n",
       "      <td>113.03</td>\n",
       "    </tr>\n",
       "    <tr>\n",
       "      <th>...</th>\n",
       "      <td>...</td>\n",
       "      <td>...</td>\n",
       "      <td>...</td>\n",
       "      <td>...</td>\n",
       "      <td>...</td>\n",
       "      <td>...</td>\n",
       "      <td>...</td>\n",
       "    </tr>\n",
       "    <tr>\n",
       "      <th>1308</th>\n",
       "      <td>False</td>\n",
       "      <td>172.36</td>\n",
       "      <td>104.02</td>\n",
       "      <td>104.32</td>\n",
       "      <td>5.62</td>\n",
       "      <td>3.40</td>\n",
       "      <td>112.13</td>\n",
       "    </tr>\n",
       "    <tr>\n",
       "      <th>1467</th>\n",
       "      <td>False</td>\n",
       "      <td>171.16</td>\n",
       "      <td>103.80</td>\n",
       "      <td>103.93</td>\n",
       "      <td>4.95</td>\n",
       "      <td>3.36</td>\n",
       "      <td>112.29</td>\n",
       "    </tr>\n",
       "    <tr>\n",
       "      <th>507</th>\n",
       "      <td>True</td>\n",
       "      <td>171.97</td>\n",
       "      <td>104.05</td>\n",
       "      <td>104.11</td>\n",
       "      <td>4.15</td>\n",
       "      <td>2.99</td>\n",
       "      <td>113.66</td>\n",
       "    </tr>\n",
       "    <tr>\n",
       "      <th>5</th>\n",
       "      <td>True</td>\n",
       "      <td>172.17</td>\n",
       "      <td>103.74</td>\n",
       "      <td>104.08</td>\n",
       "      <td>4.42</td>\n",
       "      <td>2.95</td>\n",
       "      <td>112.81</td>\n",
       "    </tr>\n",
       "    <tr>\n",
       "      <th>951</th>\n",
       "      <td>True</td>\n",
       "      <td>171.95</td>\n",
       "      <td>103.86</td>\n",
       "      <td>103.80</td>\n",
       "      <td>4.51</td>\n",
       "      <td>2.87</td>\n",
       "      <td>112.17</td>\n",
       "    </tr>\n",
       "  </tbody>\n",
       "</table>\n",
       "<p>1500 rows × 7 columns</p>\n",
       "</div>"
      ],
      "text/plain": [
       "      is_genuine  diagonal  height_left  height_right  margin_low  margin_up  \\\n",
       "1103       False    171.88       104.05        103.75        4.41       3.21   \n",
       "323         True    171.91       103.83        103.68        4.05       2.86   \n",
       "207         True    172.30       104.34        103.93        3.98       3.33   \n",
       "71          True    171.84       103.59        103.98        4.09       3.05   \n",
       "927         True    172.18       104.65        103.81        3.95       3.07   \n",
       "...          ...       ...          ...           ...         ...        ...   \n",
       "1308       False    172.36       104.02        104.32        5.62       3.40   \n",
       "1467       False    171.16       103.80        103.93        4.95       3.36   \n",
       "507         True    171.97       104.05        104.11        4.15       2.99   \n",
       "5           True    172.17       103.74        104.08        4.42       2.95   \n",
       "951         True    171.95       103.86        103.80        4.51       2.87   \n",
       "\n",
       "      length  \n",
       "1103  112.52  \n",
       "323   113.41  \n",
       "207   113.08  \n",
       "71    113.09  \n",
       "927   113.03  \n",
       "...      ...  \n",
       "1308  112.13  \n",
       "1467  112.29  \n",
       "507   113.66  \n",
       "5     112.81  \n",
       "951   112.17  \n",
       "\n",
       "[1500 rows x 7 columns]"
      ]
     },
     "execution_count": 115,
     "metadata": {},
     "output_type": "execute_result"
    }
   ],
   "source": [
    "df = pd.read_csv(\"billets.csv\")\n",
    "\n",
    "from sklearn.utils import shuffle\n",
    "df = df.sample(frac = 1)\n",
    "df"
   ]
  },
  {
   "cell_type": "code",
   "execution_count": 116,
   "id": "5436d6b2",
   "metadata": {},
   "outputs": [
    {
     "data": {
      "text/html": [
       "<div>\n",
       "<style scoped>\n",
       "    .dataframe tbody tr th:only-of-type {\n",
       "        vertical-align: middle;\n",
       "    }\n",
       "\n",
       "    .dataframe tbody tr th {\n",
       "        vertical-align: top;\n",
       "    }\n",
       "\n",
       "    .dataframe thead th {\n",
       "        text-align: right;\n",
       "    }\n",
       "</style>\n",
       "<table border=\"1\" class=\"dataframe\">\n",
       "  <thead>\n",
       "    <tr style=\"text-align: right;\">\n",
       "      <th></th>\n",
       "      <th>diagonal</th>\n",
       "      <th>height_left</th>\n",
       "      <th>height_right</th>\n",
       "      <th>margin_low</th>\n",
       "      <th>margin_up</th>\n",
       "      <th>length</th>\n",
       "      <th>id</th>\n",
       "    </tr>\n",
       "  </thead>\n",
       "  <tbody>\n",
       "    <tr>\n",
       "      <th>0</th>\n",
       "      <td>171.76</td>\n",
       "      <td>104.01</td>\n",
       "      <td>103.54</td>\n",
       "      <td>5.21</td>\n",
       "      <td>3.30</td>\n",
       "      <td>111.42</td>\n",
       "      <td>A_1</td>\n",
       "    </tr>\n",
       "    <tr>\n",
       "      <th>1</th>\n",
       "      <td>171.87</td>\n",
       "      <td>104.17</td>\n",
       "      <td>104.13</td>\n",
       "      <td>6.00</td>\n",
       "      <td>3.31</td>\n",
       "      <td>112.09</td>\n",
       "      <td>A_2</td>\n",
       "    </tr>\n",
       "    <tr>\n",
       "      <th>2</th>\n",
       "      <td>172.00</td>\n",
       "      <td>104.58</td>\n",
       "      <td>104.29</td>\n",
       "      <td>4.99</td>\n",
       "      <td>3.39</td>\n",
       "      <td>111.57</td>\n",
       "      <td>A_3</td>\n",
       "    </tr>\n",
       "    <tr>\n",
       "      <th>3</th>\n",
       "      <td>172.49</td>\n",
       "      <td>104.55</td>\n",
       "      <td>104.34</td>\n",
       "      <td>4.44</td>\n",
       "      <td>3.03</td>\n",
       "      <td>113.20</td>\n",
       "      <td>A_4</td>\n",
       "    </tr>\n",
       "    <tr>\n",
       "      <th>4</th>\n",
       "      <td>171.65</td>\n",
       "      <td>103.63</td>\n",
       "      <td>103.56</td>\n",
       "      <td>3.77</td>\n",
       "      <td>3.16</td>\n",
       "      <td>113.33</td>\n",
       "      <td>A_5</td>\n",
       "    </tr>\n",
       "  </tbody>\n",
       "</table>\n",
       "</div>"
      ],
      "text/plain": [
       "   diagonal  height_left  height_right  margin_low  margin_up  length   id\n",
       "0    171.76       104.01        103.54        5.21       3.30  111.42  A_1\n",
       "1    171.87       104.17        104.13        6.00       3.31  112.09  A_2\n",
       "2    172.00       104.58        104.29        4.99       3.39  111.57  A_3\n",
       "3    172.49       104.55        104.34        4.44       3.03  113.20  A_4\n",
       "4    171.65       103.63        103.56        3.77       3.16  113.33  A_5"
      ]
     },
     "execution_count": 116,
     "metadata": {},
     "output_type": "execute_result"
    }
   ],
   "source": [
    "bp = pd.read_csv(\"billets_production.csv\")\n",
    "bp.head()"
   ]
  },
  {
   "cell_type": "markdown",
   "id": "898c8839",
   "metadata": {},
   "source": [
    "***"
   ]
  },
  {
   "cell_type": "markdown",
   "id": "9d5c9dea",
   "metadata": {},
   "source": [
    "## <center>Exploratory Data Analysis</center>"
   ]
  },
  {
   "cell_type": "code",
   "execution_count": 117,
   "id": "53d95f58",
   "metadata": {
    "scrolled": true
   },
   "outputs": [
    {
     "data": {
      "text/html": [
       "<div>\n",
       "<style scoped>\n",
       "    .dataframe tbody tr th:only-of-type {\n",
       "        vertical-align: middle;\n",
       "    }\n",
       "\n",
       "    .dataframe tbody tr th {\n",
       "        vertical-align: top;\n",
       "    }\n",
       "\n",
       "    .dataframe thead th {\n",
       "        text-align: right;\n",
       "    }\n",
       "</style>\n",
       "<table border=\"1\" class=\"dataframe\">\n",
       "  <thead>\n",
       "    <tr style=\"text-align: right;\">\n",
       "      <th></th>\n",
       "      <th>is_genuine</th>\n",
       "      <th>diagonal</th>\n",
       "      <th>height_left</th>\n",
       "      <th>height_right</th>\n",
       "      <th>margin_low</th>\n",
       "      <th>margin_up</th>\n",
       "      <th>length</th>\n",
       "    </tr>\n",
       "  </thead>\n",
       "  <tbody>\n",
       "    <tr>\n",
       "      <th>1103</th>\n",
       "      <td>False</td>\n",
       "      <td>171.88</td>\n",
       "      <td>104.05</td>\n",
       "      <td>103.75</td>\n",
       "      <td>4.41</td>\n",
       "      <td>3.21</td>\n",
       "      <td>112.52</td>\n",
       "    </tr>\n",
       "    <tr>\n",
       "      <th>323</th>\n",
       "      <td>True</td>\n",
       "      <td>171.91</td>\n",
       "      <td>103.83</td>\n",
       "      <td>103.68</td>\n",
       "      <td>4.05</td>\n",
       "      <td>2.86</td>\n",
       "      <td>113.41</td>\n",
       "    </tr>\n",
       "    <tr>\n",
       "      <th>207</th>\n",
       "      <td>True</td>\n",
       "      <td>172.30</td>\n",
       "      <td>104.34</td>\n",
       "      <td>103.93</td>\n",
       "      <td>3.98</td>\n",
       "      <td>3.33</td>\n",
       "      <td>113.08</td>\n",
       "    </tr>\n",
       "    <tr>\n",
       "      <th>71</th>\n",
       "      <td>True</td>\n",
       "      <td>171.84</td>\n",
       "      <td>103.59</td>\n",
       "      <td>103.98</td>\n",
       "      <td>4.09</td>\n",
       "      <td>3.05</td>\n",
       "      <td>113.09</td>\n",
       "    </tr>\n",
       "    <tr>\n",
       "      <th>927</th>\n",
       "      <td>True</td>\n",
       "      <td>172.18</td>\n",
       "      <td>104.65</td>\n",
       "      <td>103.81</td>\n",
       "      <td>3.95</td>\n",
       "      <td>3.07</td>\n",
       "      <td>113.03</td>\n",
       "    </tr>\n",
       "  </tbody>\n",
       "</table>\n",
       "</div>"
      ],
      "text/plain": [
       "      is_genuine  diagonal  height_left  height_right  margin_low  margin_up  \\\n",
       "1103       False    171.88       104.05        103.75        4.41       3.21   \n",
       "323         True    171.91       103.83        103.68        4.05       2.86   \n",
       "207         True    172.30       104.34        103.93        3.98       3.33   \n",
       "71          True    171.84       103.59        103.98        4.09       3.05   \n",
       "927         True    172.18       104.65        103.81        3.95       3.07   \n",
       "\n",
       "      length  \n",
       "1103  112.52  \n",
       "323   113.41  \n",
       "207   113.08  \n",
       "71    113.09  \n",
       "927   113.03  "
      ]
     },
     "execution_count": 117,
     "metadata": {},
     "output_type": "execute_result"
    }
   ],
   "source": [
    "df.head()"
   ]
  },
  {
   "cell_type": "code",
   "execution_count": 118,
   "id": "87bf17c2",
   "metadata": {},
   "outputs": [
    {
     "data": {
      "text/html": [
       "<div>\n",
       "<style scoped>\n",
       "    .dataframe tbody tr th:only-of-type {\n",
       "        vertical-align: middle;\n",
       "    }\n",
       "\n",
       "    .dataframe tbody tr th {\n",
       "        vertical-align: top;\n",
       "    }\n",
       "\n",
       "    .dataframe thead th {\n",
       "        text-align: right;\n",
       "    }\n",
       "</style>\n",
       "<table border=\"1\" class=\"dataframe\">\n",
       "  <thead>\n",
       "    <tr style=\"text-align: right;\">\n",
       "      <th></th>\n",
       "      <th>diagonal</th>\n",
       "      <th>height_left</th>\n",
       "      <th>height_right</th>\n",
       "      <th>margin_low</th>\n",
       "      <th>margin_up</th>\n",
       "      <th>length</th>\n",
       "      <th>id</th>\n",
       "    </tr>\n",
       "  </thead>\n",
       "  <tbody>\n",
       "    <tr>\n",
       "      <th>0</th>\n",
       "      <td>171.76</td>\n",
       "      <td>104.01</td>\n",
       "      <td>103.54</td>\n",
       "      <td>5.21</td>\n",
       "      <td>3.30</td>\n",
       "      <td>111.42</td>\n",
       "      <td>A_1</td>\n",
       "    </tr>\n",
       "    <tr>\n",
       "      <th>1</th>\n",
       "      <td>171.87</td>\n",
       "      <td>104.17</td>\n",
       "      <td>104.13</td>\n",
       "      <td>6.00</td>\n",
       "      <td>3.31</td>\n",
       "      <td>112.09</td>\n",
       "      <td>A_2</td>\n",
       "    </tr>\n",
       "    <tr>\n",
       "      <th>2</th>\n",
       "      <td>172.00</td>\n",
       "      <td>104.58</td>\n",
       "      <td>104.29</td>\n",
       "      <td>4.99</td>\n",
       "      <td>3.39</td>\n",
       "      <td>111.57</td>\n",
       "      <td>A_3</td>\n",
       "    </tr>\n",
       "    <tr>\n",
       "      <th>3</th>\n",
       "      <td>172.49</td>\n",
       "      <td>104.55</td>\n",
       "      <td>104.34</td>\n",
       "      <td>4.44</td>\n",
       "      <td>3.03</td>\n",
       "      <td>113.20</td>\n",
       "      <td>A_4</td>\n",
       "    </tr>\n",
       "    <tr>\n",
       "      <th>4</th>\n",
       "      <td>171.65</td>\n",
       "      <td>103.63</td>\n",
       "      <td>103.56</td>\n",
       "      <td>3.77</td>\n",
       "      <td>3.16</td>\n",
       "      <td>113.33</td>\n",
       "      <td>A_5</td>\n",
       "    </tr>\n",
       "  </tbody>\n",
       "</table>\n",
       "</div>"
      ],
      "text/plain": [
       "   diagonal  height_left  height_right  margin_low  margin_up  length   id\n",
       "0    171.76       104.01        103.54        5.21       3.30  111.42  A_1\n",
       "1    171.87       104.17        104.13        6.00       3.31  112.09  A_2\n",
       "2    172.00       104.58        104.29        4.99       3.39  111.57  A_3\n",
       "3    172.49       104.55        104.34        4.44       3.03  113.20  A_4\n",
       "4    171.65       103.63        103.56        3.77       3.16  113.33  A_5"
      ]
     },
     "execution_count": 118,
     "metadata": {},
     "output_type": "execute_result"
    }
   ],
   "source": [
    "bp.head()"
   ]
  },
  {
   "cell_type": "code",
   "execution_count": 119,
   "id": "163b57f1",
   "metadata": {},
   "outputs": [
    {
     "data": {
      "text/plain": [
       "(1500, 7)"
      ]
     },
     "execution_count": 119,
     "metadata": {},
     "output_type": "execute_result"
    }
   ],
   "source": [
    "df.shape"
   ]
  },
  {
   "cell_type": "code",
   "execution_count": 120,
   "id": "b036dbaa",
   "metadata": {},
   "outputs": [
    {
     "name": "stdout",
     "output_type": "stream",
     "text": [
      "<class 'pandas.core.frame.DataFrame'>\n",
      "Int64Index: 1500 entries, 1103 to 951\n",
      "Data columns (total 7 columns):\n",
      " #   Column        Non-Null Count  Dtype  \n",
      "---  ------        --------------  -----  \n",
      " 0   is_genuine    1500 non-null   bool   \n",
      " 1   diagonal      1500 non-null   float64\n",
      " 2   height_left   1500 non-null   float64\n",
      " 3   height_right  1500 non-null   float64\n",
      " 4   margin_low    1463 non-null   float64\n",
      " 5   margin_up     1500 non-null   float64\n",
      " 6   length        1500 non-null   float64\n",
      "dtypes: bool(1), float64(6)\n",
      "memory usage: 83.5 KB\n"
     ]
    }
   ],
   "source": [
    "df.info()"
   ]
  },
  {
   "cell_type": "markdown",
   "id": "fbb66d5a",
   "metadata": {},
   "source": [
    "***"
   ]
  },
  {
   "cell_type": "markdown",
   "id": "c32fcb9e",
   "metadata": {},
   "source": [
    "### Missing Values"
   ]
  },
  {
   "cell_type": "code",
   "execution_count": 121,
   "id": "316be028",
   "metadata": {},
   "outputs": [
    {
     "data": {
      "text/plain": [
       "is_genuine      0.000000\n",
       "diagonal        0.000000\n",
       "height_left     0.000000\n",
       "height_right    0.000000\n",
       "margin_low      2.466667\n",
       "margin_up       0.000000\n",
       "length          0.000000\n",
       "dtype: float64"
      ]
     },
     "execution_count": 121,
     "metadata": {},
     "output_type": "execute_result"
    }
   ],
   "source": [
    "df.isnull().sum() * 100 / len(df)"
   ]
  },
  {
   "cell_type": "markdown",
   "id": "a4d02497",
   "metadata": {},
   "source": [
    "We can see here that there are some missing values only for the feature \"margin_low\".\n",
    "\n",
    "The percentage of missing values is low, 2.46%.\n",
    "\n",
    "I will use the linear regression in order to fill the NaN."
   ]
  },
  {
   "cell_type": "markdown",
   "id": "d979028f",
   "metadata": {},
   "source": [
    "***"
   ]
  },
  {
   "cell_type": "markdown",
   "id": "39e09b72",
   "metadata": {},
   "source": [
    "### Stats"
   ]
  },
  {
   "cell_type": "code",
   "execution_count": 122,
   "id": "63dcd071",
   "metadata": {},
   "outputs": [
    {
     "data": {
      "text/html": [
       "<div>\n",
       "<style scoped>\n",
       "    .dataframe tbody tr th:only-of-type {\n",
       "        vertical-align: middle;\n",
       "    }\n",
       "\n",
       "    .dataframe tbody tr th {\n",
       "        vertical-align: top;\n",
       "    }\n",
       "\n",
       "    .dataframe thead th {\n",
       "        text-align: right;\n",
       "    }\n",
       "</style>\n",
       "<table border=\"1\" class=\"dataframe\">\n",
       "  <thead>\n",
       "    <tr style=\"text-align: right;\">\n",
       "      <th></th>\n",
       "      <th>diagonal</th>\n",
       "      <th>height_left</th>\n",
       "      <th>height_right</th>\n",
       "      <th>margin_low</th>\n",
       "      <th>margin_up</th>\n",
       "      <th>length</th>\n",
       "    </tr>\n",
       "  </thead>\n",
       "  <tbody>\n",
       "    <tr>\n",
       "      <th>count</th>\n",
       "      <td>1500.000000</td>\n",
       "      <td>1500.000000</td>\n",
       "      <td>1500.000000</td>\n",
       "      <td>1463.000000</td>\n",
       "      <td>1500.000000</td>\n",
       "      <td>1500.00000</td>\n",
       "    </tr>\n",
       "    <tr>\n",
       "      <th>mean</th>\n",
       "      <td>171.958440</td>\n",
       "      <td>104.029533</td>\n",
       "      <td>103.920307</td>\n",
       "      <td>4.485967</td>\n",
       "      <td>3.151473</td>\n",
       "      <td>112.67850</td>\n",
       "    </tr>\n",
       "    <tr>\n",
       "      <th>std</th>\n",
       "      <td>0.305195</td>\n",
       "      <td>0.299462</td>\n",
       "      <td>0.325627</td>\n",
       "      <td>0.663813</td>\n",
       "      <td>0.231813</td>\n",
       "      <td>0.87273</td>\n",
       "    </tr>\n",
       "    <tr>\n",
       "      <th>min</th>\n",
       "      <td>171.040000</td>\n",
       "      <td>103.140000</td>\n",
       "      <td>102.820000</td>\n",
       "      <td>2.980000</td>\n",
       "      <td>2.270000</td>\n",
       "      <td>109.49000</td>\n",
       "    </tr>\n",
       "    <tr>\n",
       "      <th>25%</th>\n",
       "      <td>171.750000</td>\n",
       "      <td>103.820000</td>\n",
       "      <td>103.710000</td>\n",
       "      <td>4.015000</td>\n",
       "      <td>2.990000</td>\n",
       "      <td>112.03000</td>\n",
       "    </tr>\n",
       "    <tr>\n",
       "      <th>50%</th>\n",
       "      <td>171.960000</td>\n",
       "      <td>104.040000</td>\n",
       "      <td>103.920000</td>\n",
       "      <td>4.310000</td>\n",
       "      <td>3.140000</td>\n",
       "      <td>112.96000</td>\n",
       "    </tr>\n",
       "    <tr>\n",
       "      <th>75%</th>\n",
       "      <td>172.170000</td>\n",
       "      <td>104.230000</td>\n",
       "      <td>104.150000</td>\n",
       "      <td>4.870000</td>\n",
       "      <td>3.310000</td>\n",
       "      <td>113.34000</td>\n",
       "    </tr>\n",
       "    <tr>\n",
       "      <th>max</th>\n",
       "      <td>173.010000</td>\n",
       "      <td>104.880000</td>\n",
       "      <td>104.950000</td>\n",
       "      <td>6.900000</td>\n",
       "      <td>3.910000</td>\n",
       "      <td>114.44000</td>\n",
       "    </tr>\n",
       "  </tbody>\n",
       "</table>\n",
       "</div>"
      ],
      "text/plain": [
       "          diagonal  height_left  height_right   margin_low    margin_up  \\\n",
       "count  1500.000000  1500.000000   1500.000000  1463.000000  1500.000000   \n",
       "mean    171.958440   104.029533    103.920307     4.485967     3.151473   \n",
       "std       0.305195     0.299462      0.325627     0.663813     0.231813   \n",
       "min     171.040000   103.140000    102.820000     2.980000     2.270000   \n",
       "25%     171.750000   103.820000    103.710000     4.015000     2.990000   \n",
       "50%     171.960000   104.040000    103.920000     4.310000     3.140000   \n",
       "75%     172.170000   104.230000    104.150000     4.870000     3.310000   \n",
       "max     173.010000   104.880000    104.950000     6.900000     3.910000   \n",
       "\n",
       "           length  \n",
       "count  1500.00000  \n",
       "mean    112.67850  \n",
       "std       0.87273  \n",
       "min     109.49000  \n",
       "25%     112.03000  \n",
       "50%     112.96000  \n",
       "75%     113.34000  \n",
       "max     114.44000  "
      ]
     },
     "execution_count": 122,
     "metadata": {},
     "output_type": "execute_result"
    }
   ],
   "source": [
    "df.describe()"
   ]
  },
  {
   "cell_type": "code",
   "execution_count": 123,
   "id": "398c320d",
   "metadata": {},
   "outputs": [],
   "source": [
    "dfvrai = df[df[\"is_genuine\"] == True]\n",
    "\n",
    "dfaux = df[df[\"is_genuine\"] == False]"
   ]
  },
  {
   "cell_type": "code",
   "execution_count": 124,
   "id": "a8078d4d",
   "metadata": {},
   "outputs": [
    {
     "data": {
      "text/html": [
       "<div>\n",
       "<style scoped>\n",
       "    .dataframe tbody tr th:only-of-type {\n",
       "        vertical-align: middle;\n",
       "    }\n",
       "\n",
       "    .dataframe tbody tr th {\n",
       "        vertical-align: top;\n",
       "    }\n",
       "\n",
       "    .dataframe thead th {\n",
       "        text-align: right;\n",
       "    }\n",
       "</style>\n",
       "<table border=\"1\" class=\"dataframe\">\n",
       "  <thead>\n",
       "    <tr style=\"text-align: right;\">\n",
       "      <th></th>\n",
       "      <th>diagonal</th>\n",
       "      <th>height_left</th>\n",
       "      <th>height_right</th>\n",
       "      <th>margin_low</th>\n",
       "      <th>margin_up</th>\n",
       "      <th>length</th>\n",
       "    </tr>\n",
       "  </thead>\n",
       "  <tbody>\n",
       "    <tr>\n",
       "      <th>count</th>\n",
       "      <td>1000.000000</td>\n",
       "      <td>1000.000000</td>\n",
       "      <td>1000.00000</td>\n",
       "      <td>971.000000</td>\n",
       "      <td>1000.00000</td>\n",
       "      <td>1000.000000</td>\n",
       "    </tr>\n",
       "    <tr>\n",
       "      <th>mean</th>\n",
       "      <td>171.987080</td>\n",
       "      <td>103.949130</td>\n",
       "      <td>103.80865</td>\n",
       "      <td>4.116097</td>\n",
       "      <td>3.05213</td>\n",
       "      <td>113.202430</td>\n",
       "    </tr>\n",
       "    <tr>\n",
       "      <th>std</th>\n",
       "      <td>0.300441</td>\n",
       "      <td>0.300231</td>\n",
       "      <td>0.29157</td>\n",
       "      <td>0.319124</td>\n",
       "      <td>0.18634</td>\n",
       "      <td>0.359552</td>\n",
       "    </tr>\n",
       "    <tr>\n",
       "      <th>min</th>\n",
       "      <td>171.040000</td>\n",
       "      <td>103.140000</td>\n",
       "      <td>102.82000</td>\n",
       "      <td>2.980000</td>\n",
       "      <td>2.27000</td>\n",
       "      <td>111.760000</td>\n",
       "    </tr>\n",
       "    <tr>\n",
       "      <th>25%</th>\n",
       "      <td>171.790000</td>\n",
       "      <td>103.740000</td>\n",
       "      <td>103.61000</td>\n",
       "      <td>3.905000</td>\n",
       "      <td>2.93000</td>\n",
       "      <td>112.950000</td>\n",
       "    </tr>\n",
       "    <tr>\n",
       "      <th>50%</th>\n",
       "      <td>171.990000</td>\n",
       "      <td>103.950000</td>\n",
       "      <td>103.81000</td>\n",
       "      <td>4.110000</td>\n",
       "      <td>3.05000</td>\n",
       "      <td>113.205000</td>\n",
       "    </tr>\n",
       "    <tr>\n",
       "      <th>75%</th>\n",
       "      <td>172.200000</td>\n",
       "      <td>104.140000</td>\n",
       "      <td>104.00000</td>\n",
       "      <td>4.340000</td>\n",
       "      <td>3.18000</td>\n",
       "      <td>113.460000</td>\n",
       "    </tr>\n",
       "    <tr>\n",
       "      <th>max</th>\n",
       "      <td>172.920000</td>\n",
       "      <td>104.860000</td>\n",
       "      <td>104.95000</td>\n",
       "      <td>5.040000</td>\n",
       "      <td>3.74000</td>\n",
       "      <td>114.440000</td>\n",
       "    </tr>\n",
       "  </tbody>\n",
       "</table>\n",
       "</div>"
      ],
      "text/plain": [
       "          diagonal  height_left  height_right  margin_low   margin_up  \\\n",
       "count  1000.000000  1000.000000    1000.00000  971.000000  1000.00000   \n",
       "mean    171.987080   103.949130     103.80865    4.116097     3.05213   \n",
       "std       0.300441     0.300231       0.29157    0.319124     0.18634   \n",
       "min     171.040000   103.140000     102.82000    2.980000     2.27000   \n",
       "25%     171.790000   103.740000     103.61000    3.905000     2.93000   \n",
       "50%     171.990000   103.950000     103.81000    4.110000     3.05000   \n",
       "75%     172.200000   104.140000     104.00000    4.340000     3.18000   \n",
       "max     172.920000   104.860000     104.95000    5.040000     3.74000   \n",
       "\n",
       "            length  \n",
       "count  1000.000000  \n",
       "mean    113.202430  \n",
       "std       0.359552  \n",
       "min     111.760000  \n",
       "25%     112.950000  \n",
       "50%     113.205000  \n",
       "75%     113.460000  \n",
       "max     114.440000  "
      ]
     },
     "execution_count": 124,
     "metadata": {},
     "output_type": "execute_result"
    }
   ],
   "source": [
    "dfvrai.describe()"
   ]
  },
  {
   "cell_type": "code",
   "execution_count": 125,
   "id": "b252fabe",
   "metadata": {},
   "outputs": [
    {
     "data": {
      "text/html": [
       "<div>\n",
       "<style scoped>\n",
       "    .dataframe tbody tr th:only-of-type {\n",
       "        vertical-align: middle;\n",
       "    }\n",
       "\n",
       "    .dataframe tbody tr th {\n",
       "        vertical-align: top;\n",
       "    }\n",
       "\n",
       "    .dataframe thead th {\n",
       "        text-align: right;\n",
       "    }\n",
       "</style>\n",
       "<table border=\"1\" class=\"dataframe\">\n",
       "  <thead>\n",
       "    <tr style=\"text-align: right;\">\n",
       "      <th></th>\n",
       "      <th>diagonal</th>\n",
       "      <th>height_left</th>\n",
       "      <th>height_right</th>\n",
       "      <th>margin_low</th>\n",
       "      <th>margin_up</th>\n",
       "      <th>length</th>\n",
       "    </tr>\n",
       "  </thead>\n",
       "  <tbody>\n",
       "    <tr>\n",
       "      <th>count</th>\n",
       "      <td>500.000000</td>\n",
       "      <td>500.000000</td>\n",
       "      <td>500.000000</td>\n",
       "      <td>492.000000</td>\n",
       "      <td>500.000000</td>\n",
       "      <td>500.000000</td>\n",
       "    </tr>\n",
       "    <tr>\n",
       "      <th>mean</th>\n",
       "      <td>171.901160</td>\n",
       "      <td>104.190340</td>\n",
       "      <td>104.143620</td>\n",
       "      <td>5.215935</td>\n",
       "      <td>3.350160</td>\n",
       "      <td>111.630640</td>\n",
       "    </tr>\n",
       "    <tr>\n",
       "      <th>std</th>\n",
       "      <td>0.306861</td>\n",
       "      <td>0.223758</td>\n",
       "      <td>0.270878</td>\n",
       "      <td>0.553531</td>\n",
       "      <td>0.180498</td>\n",
       "      <td>0.615543</td>\n",
       "    </tr>\n",
       "    <tr>\n",
       "      <th>min</th>\n",
       "      <td>171.040000</td>\n",
       "      <td>103.510000</td>\n",
       "      <td>103.430000</td>\n",
       "      <td>3.820000</td>\n",
       "      <td>2.920000</td>\n",
       "      <td>109.490000</td>\n",
       "    </tr>\n",
       "    <tr>\n",
       "      <th>25%</th>\n",
       "      <td>171.690000</td>\n",
       "      <td>104.040000</td>\n",
       "      <td>103.950000</td>\n",
       "      <td>4.840000</td>\n",
       "      <td>3.220000</td>\n",
       "      <td>111.200000</td>\n",
       "    </tr>\n",
       "    <tr>\n",
       "      <th>50%</th>\n",
       "      <td>171.910000</td>\n",
       "      <td>104.180000</td>\n",
       "      <td>104.160000</td>\n",
       "      <td>5.190000</td>\n",
       "      <td>3.350000</td>\n",
       "      <td>111.630000</td>\n",
       "    </tr>\n",
       "    <tr>\n",
       "      <th>75%</th>\n",
       "      <td>172.092500</td>\n",
       "      <td>104.332500</td>\n",
       "      <td>104.320000</td>\n",
       "      <td>5.592500</td>\n",
       "      <td>3.472500</td>\n",
       "      <td>112.030000</td>\n",
       "    </tr>\n",
       "    <tr>\n",
       "      <th>max</th>\n",
       "      <td>173.010000</td>\n",
       "      <td>104.880000</td>\n",
       "      <td>104.950000</td>\n",
       "      <td>6.900000</td>\n",
       "      <td>3.910000</td>\n",
       "      <td>113.850000</td>\n",
       "    </tr>\n",
       "  </tbody>\n",
       "</table>\n",
       "</div>"
      ],
      "text/plain": [
       "         diagonal  height_left  height_right  margin_low   margin_up  \\\n",
       "count  500.000000   500.000000    500.000000  492.000000  500.000000   \n",
       "mean   171.901160   104.190340    104.143620    5.215935    3.350160   \n",
       "std      0.306861     0.223758      0.270878    0.553531    0.180498   \n",
       "min    171.040000   103.510000    103.430000    3.820000    2.920000   \n",
       "25%    171.690000   104.040000    103.950000    4.840000    3.220000   \n",
       "50%    171.910000   104.180000    104.160000    5.190000    3.350000   \n",
       "75%    172.092500   104.332500    104.320000    5.592500    3.472500   \n",
       "max    173.010000   104.880000    104.950000    6.900000    3.910000   \n",
       "\n",
       "           length  \n",
       "count  500.000000  \n",
       "mean   111.630640  \n",
       "std      0.615543  \n",
       "min    109.490000  \n",
       "25%    111.200000  \n",
       "50%    111.630000  \n",
       "75%    112.030000  \n",
       "max    113.850000  "
      ]
     },
     "execution_count": 125,
     "metadata": {},
     "output_type": "execute_result"
    }
   ],
   "source": [
    "dfaux.describe()"
   ]
  },
  {
   "cell_type": "markdown",
   "id": "684cbf97",
   "metadata": {},
   "source": [
    "***"
   ]
  },
  {
   "cell_type": "markdown",
   "id": "63bd82df",
   "metadata": {},
   "source": [
    "### Distributions"
   ]
  },
  {
   "cell_type": "code",
   "execution_count": 126,
   "id": "2ce63381",
   "metadata": {},
   "outputs": [
    {
     "name": "stdout",
     "output_type": "stream",
     "text": [
      "Mean = 171.95843999999965\n",
      "Median = 171.96\n",
      "Mode = 0    171.99\n",
      "Name: diagonal, dtype: float64\n",
      "Skewness = -0.033306701584140515\n",
      "Kurtosis = -0.1252842533468268\n",
      "Variance = 0.09314406244162707\n"
     ]
    },
    {
     "data": {
      "text/plain": [
       "<matplotlib.legend.Legend at 0x17d34e44c70>"
      ]
     },
     "execution_count": 126,
     "metadata": {},
     "output_type": "execute_result"
    },
    {
     "data": {
      "image/png": "[encoded data removed]",
      "text/plain": [
       "<Figure size 360x360 with 1 Axes>"
      ]
     },
     "metadata": {
      "needs_background": "light"
     },
     "output_type": "display_data"
    }
   ],
   "source": [
    "print(\"Mean =\", df[\"diagonal\"].mean())\n",
    "print(\"Median =\", df[\"diagonal\"].median())\n",
    "print(\"Mode =\", df[\"diagonal\"].mode())\n",
    "print(\"Skewness =\", df[\"diagonal\"].skew())\n",
    "print(\"Kurtosis =\", df[\"diagonal\"].kurtosis())\n",
    "print(\"Variance =\", df[\"diagonal\"].var())\n",
    "sns.displot(data=df, x=\"diagonal\")\n",
    "plt.axvline(x=df.diagonal.mean(), linewidth=3, color='r', label=\"mean\", alpha=0.5)\n",
    "plt.axvline(x=df.diagonal.median(), linewidth=3, color='b', label=\"median\", alpha=0.5)\n",
    "#plt.axvline(x=df.diagonal.mode(), linewidth=3, color='y', label=\"mode\", alpha=0.5)\n",
    "\n",
    "# set title, legends and labels\n",
    "plt.xlabel(\"diagonal\")\n",
    "plt.ylabel(\"Count\")\n",
    "plt.title(\"Distribution of diagonal\", size=14)\n",
    "plt.legend([\"Mean\", \"Median\"])"
   ]
  },
  {
   "cell_type": "markdown",
   "id": "705abfbd",
   "metadata": {},
   "source": [
    "#### <u>La variable diagonal:</u>\n",
    "\n",
    "The distribution is normal.\n",
    "\n",
    "This feature is continuous.\n",
    "\n",
    "This feature is very concentrated around the mean, there are little variance."
   ]
  },
  {
   "cell_type": "code",
   "execution_count": 127,
   "id": "84640651",
   "metadata": {
    "scrolled": false
   },
   "outputs": [
    {
     "name": "stdout",
     "output_type": "stream",
     "text": [
      "Mean = 104.02953333333326\n",
      "Median = 104.04\n",
      "Mode = 0    103.95\n",
      "Name: height_left, dtype: float64\n",
      "Skewness = -0.09212062623418618\n",
      "Kurtosis = -0.19527138384962806\n",
      "Variance = 0.08967730042250421\n"
     ]
    },
    {
     "data": {
      "text/plain": [
       "<matplotlib.legend.Legend at 0x17d35e54e50>"
      ]
     },
     "execution_count": 127,
     "metadata": {},
     "output_type": "execute_result"
    },
    {
     "data": {
      "image/png": "[encoded data removed]",
      "text/plain": [
       "<Figure size 360x360 with 1 Axes>"
      ]
     },
     "metadata": {
      "needs_background": "light"
     },
     "output_type": "display_data"
    }
   ],
   "source": [
    "print(\"Mean =\", df[\"height_left\"].mean())\n",
    "print(\"Median =\", df[\"height_left\"].median())\n",
    "print(\"Mode =\", df[\"height_left\"].mode())\n",
    "print(\"Skewness =\", df[\"height_left\"].skew())\n",
    "print(\"Kurtosis =\", df[\"height_left\"].kurtosis())\n",
    "print(\"Variance =\", df[\"height_left\"].var())\n",
    "sns.displot(data=df, x=\"height_left\")\n",
    "plt.axvline(x=df.height_left.mean(), linewidth=3, color='r', label=\"mean\", alpha=0.5)\n",
    "plt.axvline(x=df.height_left.median(), linewidth=3, color='b', label=\"median\", alpha=0.5)\n",
    "#plt.axvline(x=df.diagonal.mode(), linewidth=3, color='y', label=\"mode\", alpha=0.5)\n",
    "\n",
    "# set title, legends and labels\n",
    "plt.xlabel(\"height_left\")\n",
    "plt.ylabel(\"Count\")\n",
    "plt.title(\"Distribution of height_left\", size=14)\n",
    "plt.legend([\"Mean\", \"Median\"])"
   ]
  },
  {
   "cell_type": "markdown",
   "id": "fc60e3bd",
   "metadata": {},
   "source": [
    "#### <u>La variable height_left:</u>\n",
    "\n",
    "This feature is normally distributed.\n",
    "\n",
    "This feature is continous.\n",
    "\n",
    "This feature is concentrated around the mean, there are little variance."
   ]
  },
  {
   "cell_type": "code",
   "execution_count": 128,
   "id": "bd973f40",
   "metadata": {},
   "outputs": [
    {
     "name": "stdout",
     "output_type": "stream",
     "text": [
      "Mean = 103.92030666666682\n",
      "Median = 103.92\n",
      "Mode = 0    103.76\n",
      "Name: height_right, dtype: float64\n",
      "Skewness = -0.00032754719443239615\n",
      "Kurtosis = -0.027231670583065082\n",
      "Variance = 0.10603299461863479\n"
     ]
    },
    {
     "data": {
      "text/plain": [
       "<matplotlib.legend.Legend at 0x17d36357970>"
      ]
     },
     "execution_count": 128,
     "metadata": {},
     "output_type": "execute_result"
    },
    {
     "data": {
      "image/png": "[encoded data removed]",
      "text/plain": [
       "<Figure size 360x360 with 1 Axes>"
      ]
     },
     "metadata": {
      "needs_background": "light"
     },
     "output_type": "display_data"
    }
   ],
   "source": [
    "print(\"Mean =\", df[\"height_right\"].mean())\n",
    "print(\"Median =\", df[\"height_right\"].median())\n",
    "print(\"Mode =\", df[\"height_right\"].mode())\n",
    "print(\"Skewness =\", df[\"height_right\"].skew())\n",
    "print(\"Kurtosis =\", df[\"height_right\"].kurtosis())\n",
    "print(\"Variance =\", df[\"height_right\"].var())\n",
    "sns.displot(data=df, x=\"height_right\")\n",
    "plt.axvline(x=df.height_right.mean(), linewidth=3, color='r', label=\"mean\", alpha=0.5)\n",
    "plt.axvline(x=df.height_right.median(), linewidth=3, color='b', label=\"median\", alpha=0.5)\n",
    "#plt.axvline(x=df.diagonal.mode(), linewidth=3, color='y', label=\"mode\", alpha=0.5)\n",
    "\n",
    "# set title, legends and labels\n",
    "plt.xlabel(\"height_right\")\n",
    "plt.ylabel(\"Count\")\n",
    "plt.title(\"Distribution of height_right\", size=14)\n",
    "plt.legend([\"Mean\", \"Median\"])"
   ]
  },
  {
   "cell_type": "markdown",
   "id": "f7a0cd1a",
   "metadata": {},
   "source": [
    "#### <u>La variable height_right:</u>\n",
    "\n",
    "This feature is normally distributed.\n",
    "\n",
    "This feature is continous.\n",
    "\n",
    "This feature is concentrated around the mean, there are little variance."
   ]
  },
  {
   "cell_type": "code",
   "execution_count": 129,
   "id": "89746116",
   "metadata": {},
   "outputs": [
    {
     "name": "stdout",
     "output_type": "stream",
     "text": [
      "Mean = 4.485967190704029\n",
      "Median = 4.31\n",
      "Mode = 0    4.08\n",
      "1    4.10\n",
      "2    4.18\n",
      "Name: margin_low, dtype: float64\n",
      "Skewness = 0.8630655172248257\n",
      "Kurtosis = 0.22388560547646197\n",
      "Variance = 0.440647200017205\n"
     ]
    },
    {
     "data": {
      "text/plain": [
       "<matplotlib.legend.Legend at 0x17d36698460>"
      ]
     },
     "execution_count": 129,
     "metadata": {},
     "output_type": "execute_result"
    },
    {
     "data": {
      "image/png": "[encoded data removed]",
      "text/plain": [
       "<Figure size 360x360 with 1 Axes>"
      ]
     },
     "metadata": {
      "needs_background": "light"
     },
     "output_type": "display_data"
    }
   ],
   "source": [
    "print(\"Mean =\", df[\"margin_low\"].mean())\n",
    "print(\"Median =\", df[\"margin_low\"].median())\n",
    "print(\"Mode =\", df[\"margin_low\"].mode())\n",
    "print(\"Skewness =\", df[\"margin_low\"].skew())\n",
    "print(\"Kurtosis =\", df[\"margin_low\"].kurtosis())\n",
    "print(\"Variance =\", df[\"margin_low\"].var())\n",
    "sns.displot(data=df, x=\"margin_low\")\n",
    "plt.axvline(x=df.margin_low.mean(), linewidth=3, color='r', label=\"mean\", alpha=0.5)\n",
    "plt.axvline(x=df.margin_low.median(), linewidth=3, color='b', label=\"median\", alpha=0.5)\n",
    "#plt.axvline(x=df.diagonal.mode(), linewidth=3, color='y', label=\"mode\", alpha=0.5)\n",
    "\n",
    "# set title, legends and labels\n",
    "plt.xlabel(\"margin_low\")\n",
    "plt.ylabel(\"Count\")\n",
    "plt.title(\"Distribution of margin_low\", size=14)\n",
    "plt.legend([\"Mean\", \"Median\"])"
   ]
  },
  {
   "cell_type": "markdown",
   "id": "eb9366ca",
   "metadata": {},
   "source": [
    "#### <u>La variable margin_low:</u>\n",
    "\n",
    "The distribution of this feature is right skewed.\n",
    "\n",
    "This feature is continuous.\n",
    "\n",
    "This feature is less concentrated around the mean, there more variance than for the other features."
   ]
  },
  {
   "cell_type": "code",
   "execution_count": 130,
   "id": "cb6457af",
   "metadata": {},
   "outputs": [
    {
     "name": "stdout",
     "output_type": "stream",
     "text": [
      "Mean = 3.1514733333333305\n",
      "Median = 3.14\n",
      "Mode = 0    3.08\n",
      "Name: margin_up, dtype: float64\n",
      "Skewness = 0.14593782620878437\n",
      "Kurtosis = -0.2450758065943628\n",
      "Variance = 0.05373732083611294\n"
     ]
    },
    {
     "data": {
      "text/plain": [
       "<matplotlib.legend.Legend at 0x17d368d2070>"
      ]
     },
     "execution_count": 130,
     "metadata": {},
     "output_type": "execute_result"
    },
    {
     "data": {
      "image/png": "[encoded data removed]",
      "text/plain": [
       "<Figure size 360x360 with 1 Axes>"
      ]
     },
     "metadata": {
      "needs_background": "light"
     },
     "output_type": "display_data"
    }
   ],
   "source": [
    "print(\"Mean =\", df[\"margin_up\"].mean())\n",
    "print(\"Median =\", df[\"margin_up\"].median())\n",
    "print(\"Mode =\", df[\"margin_up\"].mode())\n",
    "print(\"Skewness =\", df[\"margin_up\"].skew())\n",
    "print(\"Kurtosis =\", df[\"margin_up\"].kurtosis())\n",
    "print(\"Variance =\", df[\"margin_up\"].var())\n",
    "sns.displot(data=df, x=\"margin_up\")\n",
    "plt.axvline(x=df.margin_up.mean(), linewidth=3, color='r', label=\"mean\", alpha=0.5)\n",
    "plt.axvline(x=df.margin_up.median(), linewidth=3, color='b', label=\"median\", alpha=0.5)\n",
    "#plt.axvline(x=df.diagonal.mode(), linewidth=3, color='y', label=\"mode\", alpha=0.5)\n",
    "\n",
    "# set title, legends and labels\n",
    "plt.xlabel(\"margin_up\")\n",
    "plt.ylabel(\"Count\")\n",
    "plt.title(\"Distribution of margin_up\", size=14)\n",
    "plt.legend([\"Mean\", \"Median\"])"
   ]
  },
  {
   "cell_type": "markdown",
   "id": "c89f4c62",
   "metadata": {},
   "source": [
    "#### <u>La variable margin_up:</u>\n",
    "\n",
    "This feature is more normal than skewed but it is not normally distributed for all that.\n",
    "\n",
    "This feature is continous.\n",
    "\n",
    "This feature is concentrated around the mean, there little variance."
   ]
  },
  {
   "cell_type": "code",
   "execution_count": 131,
   "id": "53431948",
   "metadata": {},
   "outputs": [
    {
     "name": "stdout",
     "output_type": "stream",
     "text": [
      "Mean = 112.6785000000001\n",
      "Median = 112.96\n",
      "Mode = 0    113.38\n",
      "Name: length, dtype: float64\n",
      "Skewness = -0.8159565381523239\n",
      "Kurtosis = -0.280324604624993\n",
      "Variance = 0.7616573215476992\n"
     ]
    },
    {
     "data": {
      "text/plain": [
       "<matplotlib.legend.Legend at 0x17d36905fd0>"
      ]
     },
     "execution_count": 131,
     "metadata": {},
     "output_type": "execute_result"
    },
    {
     "data": {
      "image/png": "[encoded data removed]",
      "text/plain": [
       "<Figure size 360x360 with 1 Axes>"
      ]
     },
     "metadata": {
      "needs_background": "light"
     },
     "output_type": "display_data"
    }
   ],
   "source": [
    "print(\"Mean =\", df[\"length\"].mean())\n",
    "print(\"Median =\", df[\"length\"].median())\n",
    "print(\"Mode =\", df[\"length\"].mode())\n",
    "print(\"Skewness =\", df[\"length\"].skew())\n",
    "print(\"Kurtosis =\", df[\"length\"].kurtosis())\n",
    "print(\"Variance =\", df[\"length\"].var())\n",
    "sns.displot(data=df, x=\"length\")\n",
    "plt.axvline(x=df.length.mean(), linewidth=3, color='r', label=\"mean\", alpha=0.5)\n",
    "plt.axvline(x=df.length.median(), linewidth=3, color='b', label=\"median\", alpha=0.5)\n",
    "#plt.axvline(x=df.diagonal.mode(), linewidth=3, color='y', label=\"mode\", alpha=0.5)\n",
    "\n",
    "# set title, legends and labels\n",
    "plt.xlabel(\"length\")\n",
    "plt.ylabel(\"Count\")\n",
    "plt.title(\"Distribution of length\", size=14)\n",
    "plt.legend([\"Mean\", \"Median\"])"
   ]
  },
  {
   "cell_type": "markdown",
   "id": "2465b6ed",
   "metadata": {},
   "source": [
    "#### <u>La variable length:</u>\n",
    "\n",
    "This feature is left skewed.\n",
    "\n",
    "This feature is continous.\n",
    "\n",
    "This feature is less concentrated around the mean, but there are more variance in comparaison to the other features."
   ]
  },
  {
   "cell_type": "code",
   "execution_count": 132,
   "id": "50d306fa",
   "metadata": {},
   "outputs": [
    {
     "name": "stdout",
     "output_type": "stream",
     "text": [
      "True     1000\n",
      "False     500\n",
      "Name: is_genuine, dtype: int64\n"
     ]
    },
    {
     "data": {
      "text/plain": [
       "<AxesSubplot:xlabel='is_genuine', ylabel='count'>"
      ]
     },
     "execution_count": 132,
     "metadata": {},
     "output_type": "execute_result"
    },
    {
     "data": {
      "image/png": "[encoded data removed]",
      "text/plain": [
       "<Figure size 432x288 with 1 Axes>"
      ]
     },
     "metadata": {
      "needs_background": "light"
     },
     "output_type": "display_data"
    }
   ],
   "source": [
    "print(df[\"is_genuine\"].value_counts())\n",
    "sns.countplot(x=\"is_genuine\", data=df)"
   ]
  },
  {
   "cell_type": "markdown",
   "id": "43c74af9",
   "metadata": {},
   "source": [
    "The vast majority of the values are True."
   ]
  },
  {
   "cell_type": "code",
   "execution_count": 133,
   "id": "a41ad8f5",
   "metadata": {},
   "outputs": [],
   "source": [
    "dfvrai = df[df[\"is_genuine\"] == True]\n",
    "\n",
    "dfaux = df[df[\"is_genuine\"] == False]"
   ]
  },
  {
   "cell_type": "code",
   "execution_count": 134,
   "id": "4e146fd2",
   "metadata": {},
   "outputs": [
    {
     "data": {
      "text/html": [
       "<div>\n",
       "<style scoped>\n",
       "    .dataframe tbody tr th:only-of-type {\n",
       "        vertical-align: middle;\n",
       "    }\n",
       "\n",
       "    .dataframe tbody tr th {\n",
       "        vertical-align: top;\n",
       "    }\n",
       "\n",
       "    .dataframe thead th {\n",
       "        text-align: right;\n",
       "    }\n",
       "</style>\n",
       "<table border=\"1\" class=\"dataframe\">\n",
       "  <thead>\n",
       "    <tr style=\"text-align: right;\">\n",
       "      <th></th>\n",
       "      <th>diagonal</th>\n",
       "      <th>height_left</th>\n",
       "      <th>height_right</th>\n",
       "      <th>margin_low</th>\n",
       "      <th>margin_up</th>\n",
       "      <th>length</th>\n",
       "    </tr>\n",
       "  </thead>\n",
       "  <tbody>\n",
       "    <tr>\n",
       "      <th>count</th>\n",
       "      <td>1000.000000</td>\n",
       "      <td>1000.000000</td>\n",
       "      <td>1000.00000</td>\n",
       "      <td>971.000000</td>\n",
       "      <td>1000.00000</td>\n",
       "      <td>1000.000000</td>\n",
       "    </tr>\n",
       "    <tr>\n",
       "      <th>mean</th>\n",
       "      <td>171.987080</td>\n",
       "      <td>103.949130</td>\n",
       "      <td>103.80865</td>\n",
       "      <td>4.116097</td>\n",
       "      <td>3.05213</td>\n",
       "      <td>113.202430</td>\n",
       "    </tr>\n",
       "    <tr>\n",
       "      <th>std</th>\n",
       "      <td>0.300441</td>\n",
       "      <td>0.300231</td>\n",
       "      <td>0.29157</td>\n",
       "      <td>0.319124</td>\n",
       "      <td>0.18634</td>\n",
       "      <td>0.359552</td>\n",
       "    </tr>\n",
       "    <tr>\n",
       "      <th>min</th>\n",
       "      <td>171.040000</td>\n",
       "      <td>103.140000</td>\n",
       "      <td>102.82000</td>\n",
       "      <td>2.980000</td>\n",
       "      <td>2.27000</td>\n",
       "      <td>111.760000</td>\n",
       "    </tr>\n",
       "    <tr>\n",
       "      <th>25%</th>\n",
       "      <td>171.790000</td>\n",
       "      <td>103.740000</td>\n",
       "      <td>103.61000</td>\n",
       "      <td>3.905000</td>\n",
       "      <td>2.93000</td>\n",
       "      <td>112.950000</td>\n",
       "    </tr>\n",
       "    <tr>\n",
       "      <th>50%</th>\n",
       "      <td>171.990000</td>\n",
       "      <td>103.950000</td>\n",
       "      <td>103.81000</td>\n",
       "      <td>4.110000</td>\n",
       "      <td>3.05000</td>\n",
       "      <td>113.205000</td>\n",
       "    </tr>\n",
       "    <tr>\n",
       "      <th>75%</th>\n",
       "      <td>172.200000</td>\n",
       "      <td>104.140000</td>\n",
       "      <td>104.00000</td>\n",
       "      <td>4.340000</td>\n",
       "      <td>3.18000</td>\n",
       "      <td>113.460000</td>\n",
       "    </tr>\n",
       "    <tr>\n",
       "      <th>max</th>\n",
       "      <td>172.920000</td>\n",
       "      <td>104.860000</td>\n",
       "      <td>104.95000</td>\n",
       "      <td>5.040000</td>\n",
       "      <td>3.74000</td>\n",
       "      <td>114.440000</td>\n",
       "    </tr>\n",
       "  </tbody>\n",
       "</table>\n",
       "</div>"
      ],
      "text/plain": [
       "          diagonal  height_left  height_right  margin_low   margin_up  \\\n",
       "count  1000.000000  1000.000000    1000.00000  971.000000  1000.00000   \n",
       "mean    171.987080   103.949130     103.80865    4.116097     3.05213   \n",
       "std       0.300441     0.300231       0.29157    0.319124     0.18634   \n",
       "min     171.040000   103.140000     102.82000    2.980000     2.27000   \n",
       "25%     171.790000   103.740000     103.61000    3.905000     2.93000   \n",
       "50%     171.990000   103.950000     103.81000    4.110000     3.05000   \n",
       "75%     172.200000   104.140000     104.00000    4.340000     3.18000   \n",
       "max     172.920000   104.860000     104.95000    5.040000     3.74000   \n",
       "\n",
       "            length  \n",
       "count  1000.000000  \n",
       "mean    113.202430  \n",
       "std       0.359552  \n",
       "min     111.760000  \n",
       "25%     112.950000  \n",
       "50%     113.205000  \n",
       "75%     113.460000  \n",
       "max     114.440000  "
      ]
     },
     "execution_count": 134,
     "metadata": {},
     "output_type": "execute_result"
    }
   ],
   "source": [
    "dfvrai.describe()"
   ]
  },
  {
   "cell_type": "code",
   "execution_count": 135,
   "id": "0e517aed",
   "metadata": {},
   "outputs": [
    {
     "data": {
      "text/html": [
       "<div>\n",
       "<style scoped>\n",
       "    .dataframe tbody tr th:only-of-type {\n",
       "        vertical-align: middle;\n",
       "    }\n",
       "\n",
       "    .dataframe tbody tr th {\n",
       "        vertical-align: top;\n",
       "    }\n",
       "\n",
       "    .dataframe thead th {\n",
       "        text-align: right;\n",
       "    }\n",
       "</style>\n",
       "<table border=\"1\" class=\"dataframe\">\n",
       "  <thead>\n",
       "    <tr style=\"text-align: right;\">\n",
       "      <th></th>\n",
       "      <th>diagonal</th>\n",
       "      <th>height_left</th>\n",
       "      <th>height_right</th>\n",
       "      <th>margin_low</th>\n",
       "      <th>margin_up</th>\n",
       "      <th>length</th>\n",
       "    </tr>\n",
       "  </thead>\n",
       "  <tbody>\n",
       "    <tr>\n",
       "      <th>count</th>\n",
       "      <td>500.000000</td>\n",
       "      <td>500.000000</td>\n",
       "      <td>500.000000</td>\n",
       "      <td>492.000000</td>\n",
       "      <td>500.000000</td>\n",
       "      <td>500.000000</td>\n",
       "    </tr>\n",
       "    <tr>\n",
       "      <th>mean</th>\n",
       "      <td>171.901160</td>\n",
       "      <td>104.190340</td>\n",
       "      <td>104.143620</td>\n",
       "      <td>5.215935</td>\n",
       "      <td>3.350160</td>\n",
       "      <td>111.630640</td>\n",
       "    </tr>\n",
       "    <tr>\n",
       "      <th>std</th>\n",
       "      <td>0.306861</td>\n",
       "      <td>0.223758</td>\n",
       "      <td>0.270878</td>\n",
       "      <td>0.553531</td>\n",
       "      <td>0.180498</td>\n",
       "      <td>0.615543</td>\n",
       "    </tr>\n",
       "    <tr>\n",
       "      <th>min</th>\n",
       "      <td>171.040000</td>\n",
       "      <td>103.510000</td>\n",
       "      <td>103.430000</td>\n",
       "      <td>3.820000</td>\n",
       "      <td>2.920000</td>\n",
       "      <td>109.490000</td>\n",
       "    </tr>\n",
       "    <tr>\n",
       "      <th>25%</th>\n",
       "      <td>171.690000</td>\n",
       "      <td>104.040000</td>\n",
       "      <td>103.950000</td>\n",
       "      <td>4.840000</td>\n",
       "      <td>3.220000</td>\n",
       "      <td>111.200000</td>\n",
       "    </tr>\n",
       "    <tr>\n",
       "      <th>50%</th>\n",
       "      <td>171.910000</td>\n",
       "      <td>104.180000</td>\n",
       "      <td>104.160000</td>\n",
       "      <td>5.190000</td>\n",
       "      <td>3.350000</td>\n",
       "      <td>111.630000</td>\n",
       "    </tr>\n",
       "    <tr>\n",
       "      <th>75%</th>\n",
       "      <td>172.092500</td>\n",
       "      <td>104.332500</td>\n",
       "      <td>104.320000</td>\n",
       "      <td>5.592500</td>\n",
       "      <td>3.472500</td>\n",
       "      <td>112.030000</td>\n",
       "    </tr>\n",
       "    <tr>\n",
       "      <th>max</th>\n",
       "      <td>173.010000</td>\n",
       "      <td>104.880000</td>\n",
       "      <td>104.950000</td>\n",
       "      <td>6.900000</td>\n",
       "      <td>3.910000</td>\n",
       "      <td>113.850000</td>\n",
       "    </tr>\n",
       "  </tbody>\n",
       "</table>\n",
       "</div>"
      ],
      "text/plain": [
       "         diagonal  height_left  height_right  margin_low   margin_up  \\\n",
       "count  500.000000   500.000000    500.000000  492.000000  500.000000   \n",
       "mean   171.901160   104.190340    104.143620    5.215935    3.350160   \n",
       "std      0.306861     0.223758      0.270878    0.553531    0.180498   \n",
       "min    171.040000   103.510000    103.430000    3.820000    2.920000   \n",
       "25%    171.690000   104.040000    103.950000    4.840000    3.220000   \n",
       "50%    171.910000   104.180000    104.160000    5.190000    3.350000   \n",
       "75%    172.092500   104.332500    104.320000    5.592500    3.472500   \n",
       "max    173.010000   104.880000    104.950000    6.900000    3.910000   \n",
       "\n",
       "           length  \n",
       "count  500.000000  \n",
       "mean   111.630640  \n",
       "std      0.615543  \n",
       "min    109.490000  \n",
       "25%    111.200000  \n",
       "50%    111.630000  \n",
       "75%    112.030000  \n",
       "max    113.850000  "
      ]
     },
     "execution_count": 135,
     "metadata": {},
     "output_type": "execute_result"
    }
   ],
   "source": [
    "dfaux.describe()"
   ]
  },
  {
   "cell_type": "code",
   "execution_count": 136,
   "id": "fbbd697d",
   "metadata": {},
   "outputs": [
    {
     "data": {
      "text/plain": [
       "<matplotlib.legend.Legend at 0x17d36fdce20>"
      ]
     },
     "execution_count": 136,
     "metadata": {},
     "output_type": "execute_result"
    },
    {
     "data": {
      "image/png": "[encoded data removed]",
      "text/plain": [
       "<Figure size 576x576 with 1 Axes>"
      ]
     },
     "metadata": {
      "needs_background": "light"
     },
     "output_type": "display_data"
    }
   ],
   "source": [
    "import seaborn as sns\n",
    "plt.figure(figsize=(8,8))\n",
    "\n",
    "sns.boxplot(\n",
    "    data=[dfvrai[\"length\"], dfaux[\"length\"]],\n",
    "    palette=[sns.xkcd_rgb[\"green\"], sns.xkcd_rgb[\"red\"]],\n",
    "    showmeans=True\n",
    ").set(title = \"LENGTH\", xlabel='Vrai / Faux', \n",
    "    ylabel='Millimeters')\n",
    "\n",
    "plt.legend(labels=[\"VRAI\",\"FAUX\"])"
   ]
  },
  {
   "cell_type": "code",
   "execution_count": 137,
   "id": "c5f2d3b4",
   "metadata": {},
   "outputs": [
    {
     "data": {
      "text/plain": [
       "<matplotlib.legend.Legend at 0x17d35cdc670>"
      ]
     },
     "execution_count": 137,
     "metadata": {},
     "output_type": "execute_result"
    },
    {
     "data": {
      "image/png": "[encoded data removed]",
      "text/plain": [
       "<Figure size 576x576 with 1 Axes>"
      ]
     },
     "metadata": {
      "needs_background": "light"
     },
     "output_type": "display_data"
    }
   ],
   "source": [
    "import seaborn as sns\n",
    "plt.figure(figsize=(8,8))\n",
    "\n",
    "sns.boxplot(\n",
    "    data=[dfvrai[\"diagonal\"], dfaux[\"diagonal\"]],\n",
    "    palette=[sns.xkcd_rgb[\"green\"], sns.xkcd_rgb[\"red\"]],\n",
    "    showmeans=True\n",
    ").set(title = \"DIAGONAL\", xlabel='Vrai / Faux', \n",
    "    ylabel='Millimeters')\n",
    "\n",
    "plt.legend(labels=[\"VRAI\",\"FAUX\"])"
   ]
  },
  {
   "cell_type": "code",
   "execution_count": 138,
   "id": "76bcfd4b",
   "metadata": {},
   "outputs": [
    {
     "data": {
      "text/plain": [
       "<matplotlib.legend.Legend at 0x17d35d8f580>"
      ]
     },
     "execution_count": 138,
     "metadata": {},
     "output_type": "execute_result"
    },
    {
     "data": {
      "image/png": "[encoded data removed]",
      "text/plain": [
       "<Figure size 576x576 with 1 Axes>"
      ]
     },
     "metadata": {
      "needs_background": "light"
     },
     "output_type": "display_data"
    }
   ],
   "source": [
    "import seaborn as sns\n",
    "plt.figure(figsize=(8,8))\n",
    "\n",
    "sns.boxplot(\n",
    "    data=[dfvrai[\"height_left\"], dfaux[\"height_left\"]],\n",
    "    palette=[sns.xkcd_rgb[\"green\"], sns.xkcd_rgb[\"red\"]],\n",
    "    showmeans=True\n",
    ").set(title = \"HEIGHT LEFT\", xlabel='Vrai / Faux', \n",
    "    ylabel='Millimeters')\n",
    "\n",
    "plt.legend(labels=[\"VRAI\",\"FAUX\"])"
   ]
  },
  {
   "cell_type": "code",
   "execution_count": 139,
   "id": "af237a84",
   "metadata": {},
   "outputs": [
    {
     "data": {
      "text/plain": [
       "<matplotlib.legend.Legend at 0x17d358050d0>"
      ]
     },
     "execution_count": 139,
     "metadata": {},
     "output_type": "execute_result"
    },
    {
     "data": {
      "image/png": "[encoded data removed]",
      "text/plain": [
       "<Figure size 576x576 with 1 Axes>"
      ]
     },
     "metadata": {
      "needs_background": "light"
     },
     "output_type": "display_data"
    }
   ],
   "source": [
    "import seaborn as sns\n",
    "plt.figure(figsize=(8,8))\n",
    "\n",
    "sns.boxplot(\n",
    "    data=[dfvrai[\"height_right\"], dfaux[\"height_right\"]],\n",
    "    palette=[sns.xkcd_rgb[\"green\"], sns.xkcd_rgb[\"red\"]],\n",
    "    showmeans=True\n",
    ").set(title = \"HEIGHT RIGHT\", xlabel='Vrai / Faux', \n",
    "    ylabel='Millimeters')\n",
    "\n",
    "plt.legend(labels=[\"VRAI\",\"FAUX\"])"
   ]
  },
  {
   "cell_type": "code",
   "execution_count": 140,
   "id": "267b52af",
   "metadata": {},
   "outputs": [
    {
     "data": {
      "text/plain": [
       "<matplotlib.legend.Legend at 0x17d35894490>"
      ]
     },
     "execution_count": 140,
     "metadata": {},
     "output_type": "execute_result"
    },
    {
     "data": {
      "image/png": "[encoded data removed]",
      "text/plain": [
       "<Figure size 576x576 with 1 Axes>"
      ]
     },
     "metadata": {
      "needs_background": "light"
     },
     "output_type": "display_data"
    }
   ],
   "source": [
    "import seaborn as sns\n",
    "plt.figure(figsize=(8,8))\n",
    "\n",
    "sns.boxplot(\n",
    "    data=[dfvrai[\"margin_low\"], dfaux[\"margin_low\"]],\n",
    "    palette=[sns.xkcd_rgb[\"green\"], sns.xkcd_rgb[\"red\"]],\n",
    "    showmeans=True\n",
    ").set(title = \"MARGIN LOW\", xlabel='Vrai / Faux', \n",
    "    ylabel='Millimeters')\n",
    "\n",
    "plt.legend(labels=[\"VRAI\",\"FAUX\"])"
   ]
  },
  {
   "cell_type": "code",
   "execution_count": 141,
   "id": "ccca3518",
   "metadata": {},
   "outputs": [
    {
     "data": {
      "text/plain": [
       "<matplotlib.legend.Legend at 0x17d358f8160>"
      ]
     },
     "execution_count": 141,
     "metadata": {},
     "output_type": "execute_result"
    },
    {
     "data": {
      "image/png": "[encoded data removed]",
      "text/plain": [
       "<Figure size 576x576 with 1 Axes>"
      ]
     },
     "metadata": {
      "needs_background": "light"
     },
     "output_type": "display_data"
    }
   ],
   "source": [
    "import seaborn as sns\n",
    "plt.figure(figsize=(8,8))\n",
    "\n",
    "sns.boxplot(\n",
    "    data=[dfvrai[\"margin_up\"], dfaux[\"margin_up\"]],\n",
    "    palette=[sns.xkcd_rgb[\"green\"], sns.xkcd_rgb[\"red\"]],\n",
    "    showmeans=True\n",
    ").set(title = \"MARGIN UP\", xlabel='Vrai / Faux', \n",
    "    ylabel='Millimeters')\n",
    "\n",
    "plt.legend(labels=[\"VRAI\",\"FAUX\"])"
   ]
  },
  {
   "cell_type": "markdown",
   "id": "6d1986bf",
   "metadata": {},
   "source": [
    "***"
   ]
  },
  {
   "cell_type": "markdown",
   "id": "64384815",
   "metadata": {},
   "source": [
    "### Correlations"
   ]
  },
  {
   "cell_type": "code",
   "execution_count": 142,
   "id": "f8cea417",
   "metadata": {},
   "outputs": [
    {
     "data": {
      "text/html": [
       "<div>\n",
       "<style scoped>\n",
       "    .dataframe tbody tr th:only-of-type {\n",
       "        vertical-align: middle;\n",
       "    }\n",
       "\n",
       "    .dataframe tbody tr th {\n",
       "        vertical-align: top;\n",
       "    }\n",
       "\n",
       "    .dataframe thead th {\n",
       "        text-align: right;\n",
       "    }\n",
       "</style>\n",
       "<table border=\"1\" class=\"dataframe\">\n",
       "  <thead>\n",
       "    <tr style=\"text-align: right;\">\n",
       "      <th></th>\n",
       "      <th>diagonal</th>\n",
       "      <th>height_left</th>\n",
       "      <th>height_right</th>\n",
       "      <th>margin_low</th>\n",
       "      <th>margin_up</th>\n",
       "      <th>length</th>\n",
       "    </tr>\n",
       "  </thead>\n",
       "  <tbody>\n",
       "    <tr>\n",
       "      <th>count</th>\n",
       "      <td>1500.000000</td>\n",
       "      <td>1500.000000</td>\n",
       "      <td>1500.000000</td>\n",
       "      <td>1463.000000</td>\n",
       "      <td>1500.000000</td>\n",
       "      <td>1500.00000</td>\n",
       "    </tr>\n",
       "    <tr>\n",
       "      <th>mean</th>\n",
       "      <td>171.958440</td>\n",
       "      <td>104.029533</td>\n",
       "      <td>103.920307</td>\n",
       "      <td>4.485967</td>\n",
       "      <td>3.151473</td>\n",
       "      <td>112.67850</td>\n",
       "    </tr>\n",
       "    <tr>\n",
       "      <th>std</th>\n",
       "      <td>0.305195</td>\n",
       "      <td>0.299462</td>\n",
       "      <td>0.325627</td>\n",
       "      <td>0.663813</td>\n",
       "      <td>0.231813</td>\n",
       "      <td>0.87273</td>\n",
       "    </tr>\n",
       "    <tr>\n",
       "      <th>min</th>\n",
       "      <td>171.040000</td>\n",
       "      <td>103.140000</td>\n",
       "      <td>102.820000</td>\n",
       "      <td>2.980000</td>\n",
       "      <td>2.270000</td>\n",
       "      <td>109.49000</td>\n",
       "    </tr>\n",
       "    <tr>\n",
       "      <th>25%</th>\n",
       "      <td>171.750000</td>\n",
       "      <td>103.820000</td>\n",
       "      <td>103.710000</td>\n",
       "      <td>4.015000</td>\n",
       "      <td>2.990000</td>\n",
       "      <td>112.03000</td>\n",
       "    </tr>\n",
       "    <tr>\n",
       "      <th>50%</th>\n",
       "      <td>171.960000</td>\n",
       "      <td>104.040000</td>\n",
       "      <td>103.920000</td>\n",
       "      <td>4.310000</td>\n",
       "      <td>3.140000</td>\n",
       "      <td>112.96000</td>\n",
       "    </tr>\n",
       "    <tr>\n",
       "      <th>75%</th>\n",
       "      <td>172.170000</td>\n",
       "      <td>104.230000</td>\n",
       "      <td>104.150000</td>\n",
       "      <td>4.870000</td>\n",
       "      <td>3.310000</td>\n",
       "      <td>113.34000</td>\n",
       "    </tr>\n",
       "    <tr>\n",
       "      <th>max</th>\n",
       "      <td>173.010000</td>\n",
       "      <td>104.880000</td>\n",
       "      <td>104.950000</td>\n",
       "      <td>6.900000</td>\n",
       "      <td>3.910000</td>\n",
       "      <td>114.44000</td>\n",
       "    </tr>\n",
       "  </tbody>\n",
       "</table>\n",
       "</div>"
      ],
      "text/plain": [
       "          diagonal  height_left  height_right   margin_low    margin_up  \\\n",
       "count  1500.000000  1500.000000   1500.000000  1463.000000  1500.000000   \n",
       "mean    171.958440   104.029533    103.920307     4.485967     3.151473   \n",
       "std       0.305195     0.299462      0.325627     0.663813     0.231813   \n",
       "min     171.040000   103.140000    102.820000     2.980000     2.270000   \n",
       "25%     171.750000   103.820000    103.710000     4.015000     2.990000   \n",
       "50%     171.960000   104.040000    103.920000     4.310000     3.140000   \n",
       "75%     172.170000   104.230000    104.150000     4.870000     3.310000   \n",
       "max     173.010000   104.880000    104.950000     6.900000     3.910000   \n",
       "\n",
       "           length  \n",
       "count  1500.00000  \n",
       "mean    112.67850  \n",
       "std       0.87273  \n",
       "min     109.49000  \n",
       "25%     112.03000  \n",
       "50%     112.96000  \n",
       "75%     113.34000  \n",
       "max     114.44000  "
      ]
     },
     "execution_count": 142,
     "metadata": {},
     "output_type": "execute_result"
    }
   ],
   "source": [
    "df.describe()"
   ]
  },
  {
   "cell_type": "code",
   "execution_count": 143,
   "id": "190e8f85",
   "metadata": {},
   "outputs": [
    {
     "data": {
      "text/html": [
       "<style type=\"text/css\">\n",
       "#T_0f14a_row0_col0, #T_0f14a_row1_col1, #T_0f14a_row2_col2, #T_0f14a_row3_col3, #T_0f14a_row4_col4, #T_0f14a_row5_col5 {\n",
       "  background-color: red;\n",
       "}\n",
       "#T_0f14a_row0_col1, #T_0f14a_row0_col2, #T_0f14a_row0_col3, #T_0f14a_row0_col4, #T_0f14a_row0_col5, #T_0f14a_row1_col0, #T_0f14a_row1_col2, #T_0f14a_row1_col3, #T_0f14a_row1_col4, #T_0f14a_row1_col5, #T_0f14a_row2_col0, #T_0f14a_row2_col1, #T_0f14a_row2_col3, #T_0f14a_row2_col4, #T_0f14a_row2_col5, #T_0f14a_row3_col0, #T_0f14a_row3_col1, #T_0f14a_row3_col2, #T_0f14a_row3_col4, #T_0f14a_row4_col0, #T_0f14a_row4_col1, #T_0f14a_row4_col2, #T_0f14a_row4_col3, #T_0f14a_row5_col0, #T_0f14a_row5_col1, #T_0f14a_row5_col2 {\n",
       "  background-color: white;\n",
       "}\n",
       "#T_0f14a_row3_col5, #T_0f14a_row4_col5, #T_0f14a_row5_col3, #T_0f14a_row5_col4 {\n",
       "  background-color: blue;\n",
       "}\n",
       "</style>\n",
       "<table id=\"T_0f14a\">\n",
       "  <thead>\n",
       "    <tr>\n",
       "      <th class=\"blank level0\" >&nbsp;</th>\n",
       "      <th id=\"T_0f14a_level0_col0\" class=\"col_heading level0 col0\" >diagonal</th>\n",
       "      <th id=\"T_0f14a_level0_col1\" class=\"col_heading level0 col1\" >height_left</th>\n",
       "      <th id=\"T_0f14a_level0_col2\" class=\"col_heading level0 col2\" >height_right</th>\n",
       "      <th id=\"T_0f14a_level0_col3\" class=\"col_heading level0 col3\" >margin_low</th>\n",
       "      <th id=\"T_0f14a_level0_col4\" class=\"col_heading level0 col4\" >margin_up</th>\n",
       "      <th id=\"T_0f14a_level0_col5\" class=\"col_heading level0 col5\" >length</th>\n",
       "    </tr>\n",
       "  </thead>\n",
       "  <tbody>\n",
       "    <tr>\n",
       "      <th id=\"T_0f14a_level0_row0\" class=\"row_heading level0 row0\" >diagonal</th>\n",
       "      <td id=\"T_0f14a_row0_col0\" class=\"data row0 col0\" >1.000000</td>\n",
       "      <td id=\"T_0f14a_row0_col1\" class=\"data row0 col1\" >0.020000</td>\n",
       "      <td id=\"T_0f14a_row0_col2\" class=\"data row0 col2\" >-0.020000</td>\n",
       "      <td id=\"T_0f14a_row0_col3\" class=\"data row0 col3\" >-0.110000</td>\n",
       "      <td id=\"T_0f14a_row0_col4\" class=\"data row0 col4\" >-0.060000</td>\n",
       "      <td id=\"T_0f14a_row0_col5\" class=\"data row0 col5\" >0.100000</td>\n",
       "    </tr>\n",
       "    <tr>\n",
       "      <th id=\"T_0f14a_level0_row1\" class=\"row_heading level0 row1\" >height_left</th>\n",
       "      <td id=\"T_0f14a_row1_col0\" class=\"data row1 col0\" >0.020000</td>\n",
       "      <td id=\"T_0f14a_row1_col1\" class=\"data row1 col1\" >1.000000</td>\n",
       "      <td id=\"T_0f14a_row1_col2\" class=\"data row1 col2\" >0.240000</td>\n",
       "      <td id=\"T_0f14a_row1_col3\" class=\"data row1 col3\" >0.300000</td>\n",
       "      <td id=\"T_0f14a_row1_col4\" class=\"data row1 col4\" >0.250000</td>\n",
       "      <td id=\"T_0f14a_row1_col5\" class=\"data row1 col5\" >-0.320000</td>\n",
       "    </tr>\n",
       "    <tr>\n",
       "      <th id=\"T_0f14a_level0_row2\" class=\"row_heading level0 row2\" >height_right</th>\n",
       "      <td id=\"T_0f14a_row2_col0\" class=\"data row2 col0\" >-0.020000</td>\n",
       "      <td id=\"T_0f14a_row2_col1\" class=\"data row2 col1\" >0.240000</td>\n",
       "      <td id=\"T_0f14a_row2_col2\" class=\"data row2 col2\" >1.000000</td>\n",
       "      <td id=\"T_0f14a_row2_col3\" class=\"data row2 col3\" >0.390000</td>\n",
       "      <td id=\"T_0f14a_row2_col4\" class=\"data row2 col4\" >0.310000</td>\n",
       "      <td id=\"T_0f14a_row2_col5\" class=\"data row2 col5\" >-0.400000</td>\n",
       "    </tr>\n",
       "    <tr>\n",
       "      <th id=\"T_0f14a_level0_row3\" class=\"row_heading level0 row3\" >margin_low</th>\n",
       "      <td id=\"T_0f14a_row3_col0\" class=\"data row3 col0\" >-0.110000</td>\n",
       "      <td id=\"T_0f14a_row3_col1\" class=\"data row3 col1\" >0.300000</td>\n",
       "      <td id=\"T_0f14a_row3_col2\" class=\"data row3 col2\" >0.390000</td>\n",
       "      <td id=\"T_0f14a_row3_col3\" class=\"data row3 col3\" >1.000000</td>\n",
       "      <td id=\"T_0f14a_row3_col4\" class=\"data row3 col4\" >0.430000</td>\n",
       "      <td id=\"T_0f14a_row3_col5\" class=\"data row3 col5\" >-0.670000</td>\n",
       "    </tr>\n",
       "    <tr>\n",
       "      <th id=\"T_0f14a_level0_row4\" class=\"row_heading level0 row4\" >margin_up</th>\n",
       "      <td id=\"T_0f14a_row4_col0\" class=\"data row4 col0\" >-0.060000</td>\n",
       "      <td id=\"T_0f14a_row4_col1\" class=\"data row4 col1\" >0.250000</td>\n",
       "      <td id=\"T_0f14a_row4_col2\" class=\"data row4 col2\" >0.310000</td>\n",
       "      <td id=\"T_0f14a_row4_col3\" class=\"data row4 col3\" >0.430000</td>\n",
       "      <td id=\"T_0f14a_row4_col4\" class=\"data row4 col4\" >1.000000</td>\n",
       "      <td id=\"T_0f14a_row4_col5\" class=\"data row4 col5\" >-0.520000</td>\n",
       "    </tr>\n",
       "    <tr>\n",
       "      <th id=\"T_0f14a_level0_row5\" class=\"row_heading level0 row5\" >length</th>\n",
       "      <td id=\"T_0f14a_row5_col0\" class=\"data row5 col0\" >0.100000</td>\n",
       "      <td id=\"T_0f14a_row5_col1\" class=\"data row5 col1\" >-0.320000</td>\n",
       "      <td id=\"T_0f14a_row5_col2\" class=\"data row5 col2\" >-0.400000</td>\n",
       "      <td id=\"T_0f14a_row5_col3\" class=\"data row5 col3\" >-0.670000</td>\n",
       "      <td id=\"T_0f14a_row5_col4\" class=\"data row5 col4\" >-0.520000</td>\n",
       "      <td id=\"T_0f14a_row5_col5\" class=\"data row5 col5\" >1.000000</td>\n",
       "    </tr>\n",
       "  </tbody>\n",
       "</table>\n"
      ],
      "text/plain": [
       "<pandas.io.formats.style.Styler at 0x17d34ec9a00>"
      ]
     },
     "execution_count": 143,
     "metadata": {},
     "output_type": "execute_result"
    }
   ],
   "source": [
    "dfcopy = df.copy()\n",
    "dfcopy.drop([\"is_genuine\"], axis = 1, inplace = True)\n",
    "df_corr = dfcopy.corr().round(2)\n",
    "\n",
    "def HIGHLIGHT_COLOR(x):\n",
    "    def colour_switch(number):\n",
    "        if number >= 0.50 and number <= 0.90:\n",
    "            color = \"green\"\n",
    "        elif number <= -0.50 and number >= -0.90:\n",
    "            color = \"blue\"\n",
    "        elif number >= 0.90:\n",
    "            color = \"red\"\n",
    "        elif number <= -0.90:\n",
    "            color = \"red\"\n",
    "\n",
    "        else:\n",
    "            # default\n",
    "            color = \"white\"\n",
    "            \n",
    "        return color\n",
    "\n",
    "    return [f'background-color: {colour_switch(number)}' for number in x]\n",
    "\n",
    "df_corr.style.apply(HIGHLIGHT_COLOR)\n",
    "\n",
    "#There are NaN because data does not varies.\n",
    "#Correlation formula --> cor(i,j) = cov(i,j)/[stdev(i)*stdev(j)]"
   ]
  },
  {
   "cell_type": "code",
   "execution_count": 144,
   "id": "a8afd3b0",
   "metadata": {},
   "outputs": [
    {
     "data": {
      "text/plain": [
       "<AxesSubplot:xlabel='margin_up', ylabel='length'>"
      ]
     },
     "execution_count": 144,
     "metadata": {},
     "output_type": "execute_result"
    },
    {
     "data": {
      "image/png": "[encoded data removed]",
      "text/plain": [
       "<Figure size 432x288 with 1 Axes>"
      ]
     },
     "metadata": {
      "needs_background": "light"
     },
     "output_type": "display_data"
    }
   ],
   "source": [
    "sns.scatterplot(data=df, x=\"margin_up\", y=\"length\")"
   ]
  },
  {
   "cell_type": "code",
   "execution_count": 145,
   "id": "d74c01db",
   "metadata": {},
   "outputs": [
    {
     "data": {
      "text/plain": [
       "<AxesSubplot:xlabel='margin_low', ylabel='length'>"
      ]
     },
     "execution_count": 145,
     "metadata": {},
     "output_type": "execute_result"
    },
    {
     "data": {
      "image/png": "[encoded data removed]",
      "text/plain": [
       "<Figure size 432x288 with 1 Axes>"
      ]
     },
     "metadata": {
      "needs_background": "light"
     },
     "output_type": "display_data"
    }
   ],
   "source": [
    "sns.scatterplot(data=df, x=\"margin_low\", y=\"length\")"
   ]
  },
  {
   "cell_type": "markdown",
   "id": "acec7536",
   "metadata": {},
   "source": [
    "We can see that the margins are anti correlated with length, if the length decrease, the margins also increase."
   ]
  },
  {
   "cell_type": "markdown",
   "id": "80664989",
   "metadata": {},
   "source": [
    "***"
   ]
  },
  {
   "cell_type": "markdown",
   "id": "70a8763f",
   "metadata": {},
   "source": [
    "### Duplicated Rows"
   ]
  },
  {
   "cell_type": "code",
   "execution_count": 146,
   "id": "ef36f501",
   "metadata": {},
   "outputs": [
    {
     "data": {
      "text/plain": [
       "0"
      ]
     },
     "execution_count": 146,
     "metadata": {},
     "output_type": "execute_result"
    }
   ],
   "source": [
    "df.duplicated().sum()"
   ]
  },
  {
   "cell_type": "markdown",
   "id": "bdf760f0",
   "metadata": {},
   "source": [
    "***"
   ]
  },
  {
   "cell_type": "markdown",
   "id": "60559614",
   "metadata": {},
   "source": [
    "### Outliers"
   ]
  },
  {
   "cell_type": "code",
   "execution_count": 147,
   "id": "89667617",
   "metadata": {},
   "outputs": [
    {
     "name": "stdout",
     "output_type": "stream",
     "text": [
      "diagonal\n",
      "Lower 171.12\n",
      "Upper 172.79999999999995\n",
      "Min 171.04\n",
      "Max 173.01\n",
      "\n",
      "\n"
     ]
    }
   ],
   "source": [
    "#diagonal\n",
    "s = df[\"diagonal\"]\n",
    "q1 = s.quantile(0.25)\n",
    "q3 = s.quantile(0.75)\n",
    "iqr = q3 - q1\n",
    "iqr_lower = q1 - 1.5 * iqr\n",
    "iqr_upper = q3 + 1.5 * iqr\n",
    "outliers = dict(s[(s < iqr_lower) | (s > iqr_upper)])\n",
    "\n",
    "print(\"diagonal\")\n",
    "print(\"Lower\", iqr_lower)\n",
    "print(\"Upper\", iqr_upper)\n",
    "print(\"Min\", df['diagonal'].min())\n",
    "print(\"Max\", df['diagonal'].max())\n",
    "print(\"\\n\")"
   ]
  },
  {
   "cell_type": "code",
   "execution_count": 148,
   "id": "294425f4",
   "metadata": {},
   "outputs": [
    {
     "name": "stdout",
     "output_type": "stream",
     "text": [
      "      is_genuine  diagonal  height_left  height_right  margin_low  margin_up  \\\n",
      "729         True    171.04       103.84        103.64        4.22       3.36   \n",
      "1388       False    171.05       104.09        104.50        4.72       3.10   \n",
      "1142       False    171.04       104.23        104.22        4.87       3.56   \n",
      "\n",
      "      length  \n",
      "729   112.70  \n",
      "1388  112.44  \n",
      "1142  111.54  \n",
      "\n",
      "\n",
      "      is_genuine  diagonal  height_left  height_right  margin_low  margin_up  \\\n",
      "842         True    172.89       103.77        104.24        4.12       3.01   \n",
      "1277       False    173.01       104.59        104.31        5.04       3.05   \n",
      "828         True    172.92       103.55        103.94        4.78       3.27   \n",
      "1022       False    172.89       104.03        104.03        6.03       3.00   \n",
      "\n",
      "      length  \n",
      "842   113.72  \n",
      "1277  110.91  \n",
      "828   113.55  \n",
      "1022  110.95  \n"
     ]
    }
   ],
   "source": [
    "print(df[df[\"diagonal\"] < 171.12])\n",
    "print(\"\\n\")\n",
    "print(df[df[\"diagonal\"] > 172.79999999999995])"
   ]
  },
  {
   "cell_type": "code",
   "execution_count": 149,
   "id": "fcff8e2b",
   "metadata": {},
   "outputs": [
    {
     "name": "stdout",
     "output_type": "stream",
     "text": [
      "height_left\n",
      "Lower 103.20499999999998\n",
      "Upper 104.84500000000003\n",
      "Min 103.14\n",
      "Max 104.88\n",
      "\n",
      "\n"
     ]
    }
   ],
   "source": [
    "#height_left\n",
    "s = df[\"height_left\"]\n",
    "q1 = s.quantile(0.25)\n",
    "q3 = s.quantile(0.75)\n",
    "iqr = q3 - q1\n",
    "iqr_lower = q1 - 1.5 * iqr\n",
    "iqr_upper = q3 + 1.5 * iqr\n",
    "outliers = dict(s[(s < iqr_lower) | (s > iqr_upper)])\n",
    "\n",
    "print(\"height_left\")\n",
    "print(\"Lower\", iqr_lower)\n",
    "print(\"Upper\", iqr_upper)\n",
    "print(\"Min\", df['height_left'].min())\n",
    "print(\"Max\", df['height_left'].max())\n",
    "print(\"\\n\")"
   ]
  },
  {
   "cell_type": "code",
   "execution_count": 150,
   "id": "2de3e6ae",
   "metadata": {},
   "outputs": [
    {
     "name": "stdout",
     "output_type": "stream",
     "text": [
      "     is_genuine  diagonal  height_left  height_right  margin_low  margin_up  \\\n",
      "292        True    172.09       103.14        103.81        4.88       3.01   \n",
      "224        True    172.12       103.20        103.92        4.46       3.26   \n",
      "\n",
      "     length  \n",
      "292  113.69  \n",
      "224  113.44  \n",
      "\n",
      "\n",
      "      is_genuine  diagonal  height_left  height_right  margin_low  margin_up  \\\n",
      "1090       False    172.11       104.88        104.10        4.80       3.73   \n",
      "0           True    171.81       104.86        104.95        4.52       2.89   \n",
      "1382       False    171.97       104.85        104.52        5.87       3.56   \n",
      "1150       False    171.79       104.86        104.34        5.39       3.14   \n",
      "\n",
      "      length  \n",
      "1090  110.78  \n",
      "0     112.83  \n",
      "1382  110.98  \n",
      "1150  113.02  \n"
     ]
    }
   ],
   "source": [
    "print(df[df[\"height_left\"] < 103.20499999999998])\n",
    "print(\"\\n\")\n",
    "print(df[df[\"height_left\"] > 104.84500000000003])"
   ]
  },
  {
   "cell_type": "code",
   "execution_count": 151,
   "id": "2eb6ce4c",
   "metadata": {},
   "outputs": [
    {
     "name": "stdout",
     "output_type": "stream",
     "text": [
      "height_right\n",
      "Lower 103.04999999999998\n",
      "Upper 104.81000000000003\n",
      "Min 102.82\n",
      "Max 104.95\n",
      "\n",
      "\n"
     ]
    }
   ],
   "source": [
    "#height_right\n",
    "s = df[\"height_right\"]\n",
    "q1 = s.quantile(0.25)\n",
    "q3 = s.quantile(0.75)\n",
    "iqr = q3 - q1\n",
    "iqr_lower = q1 - 1.5 * iqr\n",
    "iqr_upper = q3 + 1.5 * iqr\n",
    "outliers = dict(s[(s < iqr_lower) | (s > iqr_upper)])\n",
    "\n",
    "print(\"height_right\")\n",
    "print(\"Lower\", iqr_lower)\n",
    "print(\"Upper\", iqr_upper)\n",
    "print(\"Min\", df['height_right'].min())\n",
    "print(\"Max\", df['height_right'].max())\n",
    "print(\"\\n\")"
   ]
  },
  {
   "cell_type": "code",
   "execution_count": 152,
   "id": "b8b96b79",
   "metadata": {},
   "outputs": [
    {
     "name": "stdout",
     "output_type": "stream",
     "text": [
      "     is_genuine  diagonal  height_left  height_right  margin_low  margin_up  \\\n",
      "761        True    172.16       103.93        103.04        4.14       2.99   \n",
      "176        True    171.75       103.63        102.97        4.46       2.77   \n",
      "193        True    172.35       103.73        102.95        4.49       3.37   \n",
      "77         True    171.84       104.09        103.03        4.11       2.77   \n",
      "251        True    171.80       103.26        102.82         NaN       2.95   \n",
      "522        True    172.02       104.42        102.91        3.86       3.12   \n",
      "\n",
      "     length  \n",
      "761  113.26  \n",
      "176  113.22  \n",
      "193  112.49  \n",
      "77   113.18  \n",
      "251  113.22  \n",
      "522  113.43  \n",
      "\n",
      "\n",
      "      is_genuine  diagonal  height_left  height_right  margin_low  margin_up  \\\n",
      "1321       False    172.29       104.72        104.86        5.71       3.16   \n",
      "0           True    171.81       104.86        104.95        4.52       2.89   \n",
      "1331       False    172.32       104.60        104.83        4.84       3.51   \n",
      "1199       False    172.03       104.32        104.87        4.49       3.77   \n",
      "1484       False    172.08       103.96        104.95        5.22       3.45   \n",
      "\n",
      "      length  \n",
      "1321  112.15  \n",
      "0     112.83  \n",
      "1331  112.55  \n",
      "1199  111.04  \n",
      "1484  112.07  \n"
     ]
    }
   ],
   "source": [
    "print(df[df[\"height_right\"] < 103.04999999999998])\n",
    "print(\"\\n\")\n",
    "print(df[df[\"height_right\"] > 104.81000000000003])"
   ]
  },
  {
   "cell_type": "code",
   "execution_count": 153,
   "id": "9578aeb8",
   "metadata": {},
   "outputs": [
    {
     "name": "stdout",
     "output_type": "stream",
     "text": [
      "margin_low\n",
      "Lower 2.732499999999999\n",
      "Upper 6.152500000000001\n",
      "Min 2.98\n",
      "Max 6.9\n",
      "\n",
      "\n"
     ]
    }
   ],
   "source": [
    "#margin_low\n",
    "s = df[\"margin_low\"]\n",
    "q1 = s.quantile(0.25)\n",
    "q3 = s.quantile(0.75)\n",
    "iqr = q3 - q1\n",
    "iqr_lower = q1 - 1.5 * iqr\n",
    "iqr_upper = q3 + 1.5 * iqr\n",
    "outliers = dict(s[(s < iqr_lower) | (s > iqr_upper)])\n",
    "\n",
    "print(\"margin_low\")\n",
    "print(\"Lower\", iqr_lower)\n",
    "print(\"Upper\", iqr_upper)\n",
    "print(\"Min\", df['margin_low'].min())\n",
    "print(\"Max\", df['margin_low'].max())\n",
    "print(\"\\n\")"
   ]
  },
  {
   "cell_type": "code",
   "execution_count": 154,
   "id": "4ae4f54d",
   "metadata": {},
   "outputs": [
    {
     "data": {
      "text/html": [
       "<div>\n",
       "<style scoped>\n",
       "    .dataframe tbody tr th:only-of-type {\n",
       "        vertical-align: middle;\n",
       "    }\n",
       "\n",
       "    .dataframe tbody tr th {\n",
       "        vertical-align: top;\n",
       "    }\n",
       "\n",
       "    .dataframe thead th {\n",
       "        text-align: right;\n",
       "    }\n",
       "</style>\n",
       "<table border=\"1\" class=\"dataframe\">\n",
       "  <thead>\n",
       "    <tr style=\"text-align: right;\">\n",
       "      <th></th>\n",
       "      <th>is_genuine</th>\n",
       "      <th>diagonal</th>\n",
       "      <th>height_left</th>\n",
       "      <th>height_right</th>\n",
       "      <th>margin_low</th>\n",
       "      <th>margin_up</th>\n",
       "      <th>length</th>\n",
       "    </tr>\n",
       "  </thead>\n",
       "  <tbody>\n",
       "    <tr>\n",
       "      <th>1473</th>\n",
       "      <td>False</td>\n",
       "      <td>171.76</td>\n",
       "      <td>104.04</td>\n",
       "      <td>104.12</td>\n",
       "      <td>6.29</td>\n",
       "      <td>3.20</td>\n",
       "      <td>112.87</td>\n",
       "    </tr>\n",
       "    <tr>\n",
       "      <th>1133</th>\n",
       "      <td>False</td>\n",
       "      <td>171.79</td>\n",
       "      <td>103.99</td>\n",
       "      <td>103.67</td>\n",
       "      <td>6.16</td>\n",
       "      <td>3.52</td>\n",
       "      <td>110.93</td>\n",
       "    </tr>\n",
       "    <tr>\n",
       "      <th>1134</th>\n",
       "      <td>False</td>\n",
       "      <td>171.91</td>\n",
       "      <td>103.70</td>\n",
       "      <td>104.41</td>\n",
       "      <td>6.34</td>\n",
       "      <td>3.50</td>\n",
       "      <td>113.05</td>\n",
       "    </tr>\n",
       "    <tr>\n",
       "      <th>1426</th>\n",
       "      <td>False</td>\n",
       "      <td>172.22</td>\n",
       "      <td>103.92</td>\n",
       "      <td>104.03</td>\n",
       "      <td>6.25</td>\n",
       "      <td>3.14</td>\n",
       "      <td>110.89</td>\n",
       "    </tr>\n",
       "    <tr>\n",
       "      <th>1254</th>\n",
       "      <td>False</td>\n",
       "      <td>171.15</td>\n",
       "      <td>104.09</td>\n",
       "      <td>104.30</td>\n",
       "      <td>6.49</td>\n",
       "      <td>3.20</td>\n",
       "      <td>111.61</td>\n",
       "    </tr>\n",
       "    <tr>\n",
       "      <th>1075</th>\n",
       "      <td>False</td>\n",
       "      <td>172.02</td>\n",
       "      <td>104.51</td>\n",
       "      <td>103.69</td>\n",
       "      <td>6.23</td>\n",
       "      <td>3.39</td>\n",
       "      <td>112.35</td>\n",
       "    </tr>\n",
       "    <tr>\n",
       "      <th>1348</th>\n",
       "      <td>False</td>\n",
       "      <td>171.84</td>\n",
       "      <td>104.32</td>\n",
       "      <td>104.50</td>\n",
       "      <td>6.28</td>\n",
       "      <td>3.00</td>\n",
       "      <td>111.06</td>\n",
       "    </tr>\n",
       "    <tr>\n",
       "      <th>1290</th>\n",
       "      <td>False</td>\n",
       "      <td>171.94</td>\n",
       "      <td>104.06</td>\n",
       "      <td>104.22</td>\n",
       "      <td>6.90</td>\n",
       "      <td>3.36</td>\n",
       "      <td>111.70</td>\n",
       "    </tr>\n",
       "    <tr>\n",
       "      <th>1345</th>\n",
       "      <td>False</td>\n",
       "      <td>171.56</td>\n",
       "      <td>104.17</td>\n",
       "      <td>103.87</td>\n",
       "      <td>6.16</td>\n",
       "      <td>3.38</td>\n",
       "      <td>111.55</td>\n",
       "    </tr>\n",
       "    <tr>\n",
       "      <th>1459</th>\n",
       "      <td>False</td>\n",
       "      <td>171.78</td>\n",
       "      <td>104.31</td>\n",
       "      <td>103.82</td>\n",
       "      <td>6.19</td>\n",
       "      <td>3.25</td>\n",
       "      <td>111.14</td>\n",
       "    </tr>\n",
       "    <tr>\n",
       "      <th>1092</th>\n",
       "      <td>False</td>\n",
       "      <td>171.87</td>\n",
       "      <td>104.76</td>\n",
       "      <td>104.02</td>\n",
       "      <td>6.30</td>\n",
       "      <td>3.61</td>\n",
       "      <td>111.29</td>\n",
       "    </tr>\n",
       "    <tr>\n",
       "      <th>1110</th>\n",
       "      <td>False</td>\n",
       "      <td>171.73</td>\n",
       "      <td>104.32</td>\n",
       "      <td>104.07</td>\n",
       "      <td>6.56</td>\n",
       "      <td>3.30</td>\n",
       "      <td>112.80</td>\n",
       "    </tr>\n",
       "    <tr>\n",
       "      <th>1124</th>\n",
       "      <td>False</td>\n",
       "      <td>171.88</td>\n",
       "      <td>103.92</td>\n",
       "      <td>104.27</td>\n",
       "      <td>6.70</td>\n",
       "      <td>3.11</td>\n",
       "      <td>110.93</td>\n",
       "    </tr>\n",
       "    <tr>\n",
       "      <th>1420</th>\n",
       "      <td>False</td>\n",
       "      <td>171.56</td>\n",
       "      <td>104.47</td>\n",
       "      <td>104.04</td>\n",
       "      <td>6.38</td>\n",
       "      <td>3.43</td>\n",
       "      <td>112.12</td>\n",
       "    </tr>\n",
       "    <tr>\n",
       "      <th>1023</th>\n",
       "      <td>False</td>\n",
       "      <td>172.02</td>\n",
       "      <td>104.26</td>\n",
       "      <td>104.20</td>\n",
       "      <td>6.20</td>\n",
       "      <td>3.58</td>\n",
       "      <td>111.25</td>\n",
       "    </tr>\n",
       "    <tr>\n",
       "      <th>1169</th>\n",
       "      <td>False</td>\n",
       "      <td>171.99</td>\n",
       "      <td>104.14</td>\n",
       "      <td>104.15</td>\n",
       "      <td>6.48</td>\n",
       "      <td>3.42</td>\n",
       "      <td>112.16</td>\n",
       "    </tr>\n",
       "    <tr>\n",
       "      <th>1031</th>\n",
       "      <td>False</td>\n",
       "      <td>172.40</td>\n",
       "      <td>104.00</td>\n",
       "      <td>103.82</td>\n",
       "      <td>6.33</td>\n",
       "      <td>3.10</td>\n",
       "      <td>112.11</td>\n",
       "    </tr>\n",
       "    <tr>\n",
       "      <th>1441</th>\n",
       "      <td>False</td>\n",
       "      <td>171.63</td>\n",
       "      <td>104.55</td>\n",
       "      <td>103.81</td>\n",
       "      <td>6.56</td>\n",
       "      <td>3.10</td>\n",
       "      <td>111.87</td>\n",
       "    </tr>\n",
       "    <tr>\n",
       "      <th>1322</th>\n",
       "      <td>False</td>\n",
       "      <td>172.07</td>\n",
       "      <td>104.50</td>\n",
       "      <td>104.23</td>\n",
       "      <td>6.19</td>\n",
       "      <td>3.07</td>\n",
       "      <td>111.21</td>\n",
       "    </tr>\n",
       "    <tr>\n",
       "      <th>1353</th>\n",
       "      <td>False</td>\n",
       "      <td>171.61</td>\n",
       "      <td>104.04</td>\n",
       "      <td>104.06</td>\n",
       "      <td>6.19</td>\n",
       "      <td>3.08</td>\n",
       "      <td>110.73</td>\n",
       "    </tr>\n",
       "    <tr>\n",
       "      <th>1053</th>\n",
       "      <td>False</td>\n",
       "      <td>171.85</td>\n",
       "      <td>104.52</td>\n",
       "      <td>104.05</td>\n",
       "      <td>6.21</td>\n",
       "      <td>3.43</td>\n",
       "      <td>111.96</td>\n",
       "    </tr>\n",
       "    <tr>\n",
       "      <th>1041</th>\n",
       "      <td>False</td>\n",
       "      <td>171.77</td>\n",
       "      <td>104.12</td>\n",
       "      <td>104.42</td>\n",
       "      <td>6.65</td>\n",
       "      <td>3.63</td>\n",
       "      <td>111.53</td>\n",
       "    </tr>\n",
       "    <tr>\n",
       "      <th>1027</th>\n",
       "      <td>False</td>\n",
       "      <td>171.63</td>\n",
       "      <td>104.02</td>\n",
       "      <td>104.66</td>\n",
       "      <td>6.70</td>\n",
       "      <td>3.28</td>\n",
       "      <td>111.28</td>\n",
       "    </tr>\n",
       "    <tr>\n",
       "      <th>1464</th>\n",
       "      <td>False</td>\n",
       "      <td>172.07</td>\n",
       "      <td>104.17</td>\n",
       "      <td>104.37</td>\n",
       "      <td>6.54</td>\n",
       "      <td>3.54</td>\n",
       "      <td>111.20</td>\n",
       "    </tr>\n",
       "  </tbody>\n",
       "</table>\n",
       "</div>"
      ],
      "text/plain": [
       "      is_genuine  diagonal  height_left  height_right  margin_low  margin_up  \\\n",
       "1473       False    171.76       104.04        104.12        6.29       3.20   \n",
       "1133       False    171.79       103.99        103.67        6.16       3.52   \n",
       "1134       False    171.91       103.70        104.41        6.34       3.50   \n",
       "1426       False    172.22       103.92        104.03        6.25       3.14   \n",
       "1254       False    171.15       104.09        104.30        6.49       3.20   \n",
       "1075       False    172.02       104.51        103.69        6.23       3.39   \n",
       "1348       False    171.84       104.32        104.50        6.28       3.00   \n",
       "1290       False    171.94       104.06        104.22        6.90       3.36   \n",
       "1345       False    171.56       104.17        103.87        6.16       3.38   \n",
       "1459       False    171.78       104.31        103.82        6.19       3.25   \n",
       "1092       False    171.87       104.76        104.02        6.30       3.61   \n",
       "1110       False    171.73       104.32        104.07        6.56       3.30   \n",
       "1124       False    171.88       103.92        104.27        6.70       3.11   \n",
       "1420       False    171.56       104.47        104.04        6.38       3.43   \n",
       "1023       False    172.02       104.26        104.20        6.20       3.58   \n",
       "1169       False    171.99       104.14        104.15        6.48       3.42   \n",
       "1031       False    172.40       104.00        103.82        6.33       3.10   \n",
       "1441       False    171.63       104.55        103.81        6.56       3.10   \n",
       "1322       False    172.07       104.50        104.23        6.19       3.07   \n",
       "1353       False    171.61       104.04        104.06        6.19       3.08   \n",
       "1053       False    171.85       104.52        104.05        6.21       3.43   \n",
       "1041       False    171.77       104.12        104.42        6.65       3.63   \n",
       "1027       False    171.63       104.02        104.66        6.70       3.28   \n",
       "1464       False    172.07       104.17        104.37        6.54       3.54   \n",
       "\n",
       "      length  \n",
       "1473  112.87  \n",
       "1133  110.93  \n",
       "1134  113.05  \n",
       "1426  110.89  \n",
       "1254  111.61  \n",
       "1075  112.35  \n",
       "1348  111.06  \n",
       "1290  111.70  \n",
       "1345  111.55  \n",
       "1459  111.14  \n",
       "1092  111.29  \n",
       "1110  112.80  \n",
       "1124  110.93  \n",
       "1420  112.12  \n",
       "1023  111.25  \n",
       "1169  112.16  \n",
       "1031  112.11  \n",
       "1441  111.87  \n",
       "1322  111.21  \n",
       "1353  110.73  \n",
       "1053  111.96  \n",
       "1041  111.53  \n",
       "1027  111.28  \n",
       "1464  111.20  "
      ]
     },
     "execution_count": 154,
     "metadata": {},
     "output_type": "execute_result"
    }
   ],
   "source": [
    "df[df[\"margin_low\"] > 6.152500000000001]"
   ]
  },
  {
   "cell_type": "code",
   "execution_count": 155,
   "id": "57b670d8",
   "metadata": {},
   "outputs": [
    {
     "name": "stdout",
     "output_type": "stream",
     "text": [
      "margin_up\n",
      "Lower 2.5100000000000007\n",
      "Upper 3.79\n",
      "Min 2.27\n",
      "Max 3.91\n",
      "\n",
      "\n"
     ]
    }
   ],
   "source": [
    "#margin_up\n",
    "s = df[\"margin_up\"]\n",
    "q1 = s.quantile(0.25)\n",
    "q3 = s.quantile(0.75)\n",
    "iqr = q3 - q1\n",
    "iqr_lower = q1 - 1.5 * iqr\n",
    "iqr_upper = q3 + 1.5 * iqr\n",
    "outliers = dict(s[(s < iqr_lower) | (s > iqr_upper)])\n",
    "\n",
    "print(\"margin_up\")\n",
    "print(\"Lower\", iqr_lower)\n",
    "print(\"Upper\", iqr_upper)\n",
    "print(\"Min\", df['margin_up'].min())\n",
    "print(\"Max\", df['margin_up'].max())\n",
    "print(\"\\n\")"
   ]
  },
  {
   "cell_type": "code",
   "execution_count": 156,
   "id": "50dfaf68",
   "metadata": {},
   "outputs": [
    {
     "name": "stdout",
     "output_type": "stream",
     "text": [
      "     is_genuine  diagonal  height_left  height_right  margin_low  margin_up  \\\n",
      "664        True    172.05        103.7        103.75        5.04       2.27   \n",
      "\n",
      "     length  \n",
      "664  113.55  \n",
      "\n",
      "\n",
      "      is_genuine  diagonal  height_left  height_right  margin_low  margin_up  \\\n",
      "1029       False    171.96       104.29        104.03        6.01       3.91   \n",
      "1270       False    171.26       104.22        104.07        4.78       3.81   \n",
      "\n",
      "      length  \n",
      "1029  110.83  \n",
      "1270  112.88  \n"
     ]
    }
   ],
   "source": [
    "print(df[df[\"margin_up\"] < 2.5100000000000007])\n",
    "print(\"\\n\")\n",
    "print(df[df[\"margin_up\"] > 3.79])"
   ]
  },
  {
   "cell_type": "code",
   "execution_count": 157,
   "id": "8a0d7de2",
   "metadata": {},
   "outputs": [
    {
     "name": "stdout",
     "output_type": "stream",
     "text": [
      "length\n",
      "Lower 110.065\n",
      "Upper 115.305\n",
      "Min 109.49\n",
      "Max 114.44\n",
      "\n",
      "\n"
     ]
    }
   ],
   "source": [
    "#length\n",
    "s = df[\"length\"]\n",
    "q1 = s.quantile(0.25)\n",
    "q3 = s.quantile(0.75)\n",
    "iqr = q3 - q1\n",
    "iqr_lower = q1 - 1.5 * iqr\n",
    "iqr_upper = q3 + 1.5 * iqr\n",
    "outliers = dict(s[(s < iqr_lower) | (s > iqr_upper)])\n",
    "\n",
    "print(\"length\")\n",
    "print(\"Lower\", iqr_lower)\n",
    "print(\"Upper\", iqr_upper)\n",
    "print(\"Min\", df['length'].min())\n",
    "print(\"Max\", df['length'].max())\n",
    "print(\"\\n\")"
   ]
  },
  {
   "cell_type": "code",
   "execution_count": 158,
   "id": "d47f56c8",
   "metadata": {},
   "outputs": [
    {
     "data": {
      "text/html": [
       "<div>\n",
       "<style scoped>\n",
       "    .dataframe tbody tr th:only-of-type {\n",
       "        vertical-align: middle;\n",
       "    }\n",
       "\n",
       "    .dataframe tbody tr th {\n",
       "        vertical-align: top;\n",
       "    }\n",
       "\n",
       "    .dataframe thead th {\n",
       "        text-align: right;\n",
       "    }\n",
       "</style>\n",
       "<table border=\"1\" class=\"dataframe\">\n",
       "  <thead>\n",
       "    <tr style=\"text-align: right;\">\n",
       "      <th></th>\n",
       "      <th>is_genuine</th>\n",
       "      <th>diagonal</th>\n",
       "      <th>height_left</th>\n",
       "      <th>height_right</th>\n",
       "      <th>margin_low</th>\n",
       "      <th>margin_up</th>\n",
       "      <th>length</th>\n",
       "    </tr>\n",
       "  </thead>\n",
       "  <tbody>\n",
       "    <tr>\n",
       "      <th>1082</th>\n",
       "      <td>False</td>\n",
       "      <td>171.75</td>\n",
       "      <td>103.96</td>\n",
       "      <td>103.83</td>\n",
       "      <td>5.39</td>\n",
       "      <td>3.54</td>\n",
       "      <td>109.49</td>\n",
       "    </tr>\n",
       "    <tr>\n",
       "      <th>1453</th>\n",
       "      <td>False</td>\n",
       "      <td>171.55</td>\n",
       "      <td>104.20</td>\n",
       "      <td>104.49</td>\n",
       "      <td>5.42</td>\n",
       "      <td>3.54</td>\n",
       "      <td>109.93</td>\n",
       "    </tr>\n",
       "    <tr>\n",
       "      <th>1355</th>\n",
       "      <td>False</td>\n",
       "      <td>171.68</td>\n",
       "      <td>103.89</td>\n",
       "      <td>103.70</td>\n",
       "      <td>5.97</td>\n",
       "      <td>3.03</td>\n",
       "      <td>109.97</td>\n",
       "    </tr>\n",
       "  </tbody>\n",
       "</table>\n",
       "</div>"
      ],
      "text/plain": [
       "      is_genuine  diagonal  height_left  height_right  margin_low  margin_up  \\\n",
       "1082       False    171.75       103.96        103.83        5.39       3.54   \n",
       "1453       False    171.55       104.20        104.49        5.42       3.54   \n",
       "1355       False    171.68       103.89        103.70        5.97       3.03   \n",
       "\n",
       "      length  \n",
       "1082  109.49  \n",
       "1453  109.93  \n",
       "1355  109.97  "
      ]
     },
     "execution_count": 158,
     "metadata": {},
     "output_type": "execute_result"
    }
   ],
   "source": [
    "df[df[\"length\"] < 110.065]"
   ]
  },
  {
   "cell_type": "markdown",
   "id": "593d388a",
   "metadata": {},
   "source": [
    "In this dataset there are no outliers, there are some values that are a little bit out the upper and lower range in the True and False values but because all the bills are not always the same size, and that we don't know what are the values of the bills there are no shocking values.\n",
    "\n",
    "Bills are in euros money.\n",
    "For exemple in euros a bills of 20 is smaller than a 500 bills."
   ]
  },
  {
   "cell_type": "markdown",
   "id": "a97e394a",
   "metadata": {},
   "source": [
    "***"
   ]
  },
  {
   "cell_type": "markdown",
   "id": "5da2dc07",
   "metadata": {},
   "source": [
    "### Filling Missing Values with Linear Regression"
   ]
  },
  {
   "cell_type": "code",
   "execution_count": 159,
   "id": "2f909cda",
   "metadata": {},
   "outputs": [
    {
     "data": {
      "text/html": [
       "<div>\n",
       "<style scoped>\n",
       "    .dataframe tbody tr th:only-of-type {\n",
       "        vertical-align: middle;\n",
       "    }\n",
       "\n",
       "    .dataframe tbody tr th {\n",
       "        vertical-align: top;\n",
       "    }\n",
       "\n",
       "    .dataframe thead th {\n",
       "        text-align: right;\n",
       "    }\n",
       "</style>\n",
       "<table border=\"1\" class=\"dataframe\">\n",
       "  <thead>\n",
       "    <tr style=\"text-align: right;\">\n",
       "      <th></th>\n",
       "      <th>is_genuine</th>\n",
       "      <th>diagonal</th>\n",
       "      <th>height_left</th>\n",
       "      <th>height_right</th>\n",
       "      <th>margin_low</th>\n",
       "      <th>margin_up</th>\n",
       "      <th>length</th>\n",
       "    </tr>\n",
       "  </thead>\n",
       "  <tbody>\n",
       "    <tr>\n",
       "      <th>780</th>\n",
       "      <td>True</td>\n",
       "      <td>172.41</td>\n",
       "      <td>103.95</td>\n",
       "      <td>103.79</td>\n",
       "      <td>NaN</td>\n",
       "      <td>3.13</td>\n",
       "      <td>113.41</td>\n",
       "    </tr>\n",
       "    <tr>\n",
       "      <th>284</th>\n",
       "      <td>True</td>\n",
       "      <td>171.92</td>\n",
       "      <td>103.83</td>\n",
       "      <td>103.76</td>\n",
       "      <td>NaN</td>\n",
       "      <td>3.23</td>\n",
       "      <td>113.29</td>\n",
       "    </tr>\n",
       "    <tr>\n",
       "      <th>895</th>\n",
       "      <td>True</td>\n",
       "      <td>171.81</td>\n",
       "      <td>103.68</td>\n",
       "      <td>103.80</td>\n",
       "      <td>NaN</td>\n",
       "      <td>2.98</td>\n",
       "      <td>113.82</td>\n",
       "    </tr>\n",
       "    <tr>\n",
       "      <th>151</th>\n",
       "      <td>True</td>\n",
       "      <td>172.07</td>\n",
       "      <td>103.80</td>\n",
       "      <td>104.38</td>\n",
       "      <td>NaN</td>\n",
       "      <td>3.02</td>\n",
       "      <td>112.93</td>\n",
       "    </tr>\n",
       "    <tr>\n",
       "      <th>710</th>\n",
       "      <td>True</td>\n",
       "      <td>172.03</td>\n",
       "      <td>103.97</td>\n",
       "      <td>103.86</td>\n",
       "      <td>NaN</td>\n",
       "      <td>3.07</td>\n",
       "      <td>112.65</td>\n",
       "    </tr>\n",
       "  </tbody>\n",
       "</table>\n",
       "</div>"
      ],
      "text/plain": [
       "     is_genuine  diagonal  height_left  height_right  margin_low  margin_up  \\\n",
       "780        True    172.41       103.95        103.79         NaN       3.13   \n",
       "284        True    171.92       103.83        103.76         NaN       3.23   \n",
       "895        True    171.81       103.68        103.80         NaN       2.98   \n",
       "151        True    172.07       103.80        104.38         NaN       3.02   \n",
       "710        True    172.03       103.97        103.86         NaN       3.07   \n",
       "\n",
       "     length  \n",
       "780  113.41  \n",
       "284  113.29  \n",
       "895  113.82  \n",
       "151  112.93  \n",
       "710  112.65  "
      ]
     },
     "execution_count": 159,
     "metadata": {},
     "output_type": "execute_result"
    }
   ],
   "source": [
    "#1. Separate the null values\n",
    "\n",
    "#This df_test contains only the null values from the margin_low columns.\n",
    "\n",
    "df_test = df[df[\"margin_low\"].isnull()]\n",
    "df_test.head(5)"
   ]
  },
  {
   "cell_type": "code",
   "execution_count": 160,
   "id": "92049f0b",
   "metadata": {},
   "outputs": [
    {
     "data": {
      "text/plain": [
       "is_genuine      0\n",
       "diagonal        0\n",
       "height_left     0\n",
       "height_right    0\n",
       "margin_low      0\n",
       "margin_up       0\n",
       "length          0\n",
       "dtype: int64"
      ]
     },
     "execution_count": 160,
     "metadata": {},
     "output_type": "execute_result"
    }
   ],
   "source": [
    "#2. Drop the null values from the df and consider it as df_train.\n",
    "\n",
    "df.dropna(inplace = True)\n",
    "df.isnull().sum()"
   ]
  },
  {
   "cell_type": "code",
   "execution_count": 161,
   "id": "0d6ce426",
   "metadata": {},
   "outputs": [
    {
     "name": "stdout",
     "output_type": "stream",
     "text": [
      "(1463,)\n",
      "1103    4.41\n",
      "323     4.05\n",
      "207     3.98\n",
      "71      4.09\n",
      "927     3.95\n",
      "        ... \n",
      "1308    5.62\n",
      "1467    4.95\n",
      "507     4.15\n",
      "5       4.42\n",
      "951     4.51\n",
      "Name: margin_low, Length: 1463, dtype: float64\n",
      "\n",
      "\n",
      "(1463, 6)\n",
      "      is_genuine  diagonal  height_left  height_right  margin_up  length\n",
      "1103       False    171.88       104.05        103.75       3.21  112.52\n",
      "323         True    171.91       103.83        103.68       2.86  113.41\n",
      "207         True    172.30       104.34        103.93       3.33  113.08\n",
      "71          True    171.84       103.59        103.98       3.05  113.09\n",
      "927         True    172.18       104.65        103.81       3.07  113.03\n",
      "...          ...       ...          ...           ...        ...     ...\n",
      "1308       False    172.36       104.02        104.32       3.40  112.13\n",
      "1467       False    171.16       103.80        103.93       3.36  112.29\n",
      "507         True    171.97       104.05        104.11       2.99  113.66\n",
      "5           True    172.17       103.74        104.08       2.95  112.81\n",
      "951         True    171.95       103.86        103.80       2.87  112.17\n",
      "\n",
      "[1463 rows x 6 columns]\n"
     ]
    }
   ],
   "source": [
    "#3. Create x_train and y_train from df. \n",
    "\n",
    "#y_train is rows from df[\"margin_low\"] with no null values.\n",
    "y_train = df[\"margin_low\"]\n",
    "print(y_train.shape)\n",
    "print(y_train)\n",
    "\n",
    "print(\"\\n\")\n",
    "\n",
    "#x_train is the dataset except df[\"margin_low\"] with no null values.\n",
    "x_train = df.drop(\"margin_low\", axis = 1)\n",
    "print(x_train.shape)\n",
    "print(x_train)"
   ]
  },
  {
   "cell_type": "code",
   "execution_count": 162,
   "id": "6675bd50",
   "metadata": {},
   "outputs": [
    {
     "data": {
      "text/html": [
       "<style>#sk-container-id-3 {color: black;background-color: white;}#sk-container-id-3 pre{padding: 0;}#sk-container-id-3 div.sk-toggleable {background-color: white;}#sk-container-id-3 label.sk-toggleable__label {cursor: pointer;display: block;width: 100%;margin-bottom: 0;padding: 0.3em;box-sizing: border-box;text-align: center;}#sk-container-id-3 label.sk-toggleable__label-arrow:before {content: \"▸\";float: left;margin-right: 0.25em;color: #696969;}#sk-container-id-3 label.sk-toggleable__label-arrow:hover:before {color: black;}#sk-container-id-3 div.sk-estimator:hover label.sk-toggleable__label-arrow:before {color: black;}#sk-container-id-3 div.sk-toggleable__content {max-height: 0;max-width: 0;overflow: hidden;text-align: left;background-color: #f0f8ff;}#sk-container-id-3 div.sk-toggleable__content pre {margin: 0.2em;color: black;border-radius: 0.25em;background-color: #f0f8ff;}#sk-container-id-3 input.sk-toggleable__control:checked~div.sk-toggleable__content {max-height: 200px;max-width: 100%;overflow: auto;}#sk-container-id-3 input.sk-toggleable__control:checked~label.sk-toggleable__label-arrow:before {content: \"▾\";}#sk-container-id-3 div.sk-estimator input.sk-toggleable__control:checked~label.sk-toggleable__label {background-color: #d4ebff;}#sk-container-id-3 div.sk-label input.sk-toggleable__control:checked~label.sk-toggleable__label {background-color: #d4ebff;}#sk-container-id-3 input.sk-hidden--visually {border: 0;clip: rect(1px 1px 1px 1px);clip: rect(1px, 1px, 1px, 1px);height: 1px;margin: -1px;overflow: hidden;padding: 0;position: absolute;width: 1px;}#sk-container-id-3 div.sk-estimator {font-family: monospace;background-color: #f0f8ff;border: 1px dotted black;border-radius: 0.25em;box-sizing: border-box;margin-bottom: 0.5em;}#sk-container-id-3 div.sk-estimator:hover {background-color: #d4ebff;}#sk-container-id-3 div.sk-parallel-item::after {content: \"\";width: 100%;border-bottom: 1px solid gray;flex-grow: 1;}#sk-container-id-3 div.sk-label:hover label.sk-toggleable__label {background-color: #d4ebff;}#sk-container-id-3 div.sk-serial::before {content: \"\";position: absolute;border-left: 1px solid gray;box-sizing: border-box;top: 0;bottom: 0;left: 50%;z-index: 0;}#sk-container-id-3 div.sk-serial {display: flex;flex-direction: column;align-items: center;background-color: white;padding-right: 0.2em;padding-left: 0.2em;position: relative;}#sk-container-id-3 div.sk-item {position: relative;z-index: 1;}#sk-container-id-3 div.sk-parallel {display: flex;align-items: stretch;justify-content: center;background-color: white;position: relative;}#sk-container-id-3 div.sk-item::before, #sk-container-id-3 div.sk-parallel-item::before {content: \"\";position: absolute;border-left: 1px solid gray;box-sizing: border-box;top: 0;bottom: 0;left: 50%;z-index: -1;}#sk-container-id-3 div.sk-parallel-item {display: flex;flex-direction: column;z-index: 1;position: relative;background-color: white;}#sk-container-id-3 div.sk-parallel-item:first-child::after {align-self: flex-end;width: 50%;}#sk-container-id-3 div.sk-parallel-item:last-child::after {align-self: flex-start;width: 50%;}#sk-container-id-3 div.sk-parallel-item:only-child::after {width: 0;}#sk-container-id-3 div.sk-dashed-wrapped {border: 1px dashed gray;margin: 0 0.4em 0.5em 0.4em;box-sizing: border-box;padding-bottom: 0.4em;background-color: white;}#sk-container-id-3 div.sk-label label {font-family: monospace;font-weight: bold;display: inline-block;line-height: 1.2em;}#sk-container-id-3 div.sk-label-container {text-align: center;}#sk-container-id-3 div.sk-container {/* jupyter's `normalize.less` sets `[hidden] { display: none; }` but bootstrap.min.css set `[hidden] { display: none !important; }` so we also need the `!important` here to be able to override the default hidden behavior on the sphinx rendered scikit-learn.org. See: https://github.com/scikit-learn/scikit-learn/issues/21755 */display: inline-block !important;position: relative;}#sk-container-id-3 div.sk-text-repr-fallback {display: none;}</style><div id=\"sk-container-id-3\" class=\"sk-top-container\"><div class=\"sk-text-repr-fallback\"><pre>LinearRegression()</pre><b>In a Jupyter environment, please rerun this cell to show the HTML representation or trust the notebook. <br />On GitHub, the HTML representation is unable to render, please try loading this page with nbviewer.org.</b></div><div class=\"sk-container\" hidden><div class=\"sk-item\"><div class=\"sk-estimator sk-toggleable\"><input class=\"sk-toggleable__control sk-hidden--visually\" id=\"sk-estimator-id-3\" type=\"checkbox\" checked><label for=\"sk-estimator-id-3\" class=\"sk-toggleable__label sk-toggleable__label-arrow\">LinearRegression</label><div class=\"sk-toggleable__content\"><pre>LinearRegression()</pre></div></div></div></div></div>"
      ],
      "text/plain": [
       "LinearRegression()"
      ]
     },
     "execution_count": 162,
     "metadata": {},
     "output_type": "execute_result"
    }
   ],
   "source": [
    "#4. Build the model.\n",
    "\n",
    "from sklearn.linear_model import LinearRegression\n",
    "lr = LinearRegression()\n",
    "\n",
    "#Train the model on train dataset (x_train, y_train)\n",
    "\n",
    "lr.fit(x_train, y_train)"
   ]
  },
  {
   "cell_type": "code",
   "execution_count": 163,
   "id": "0b81136d",
   "metadata": {},
   "outputs": [
    {
     "name": "stdout",
     "output_type": "stream",
     "text": [
      "(37, 6)\n",
      "      is_genuine  diagonal  height_left  height_right  margin_up  length\n",
      "780         True    172.41       103.95        103.79       3.13  113.41\n",
      "284         True    171.92       103.83        103.76       3.23  113.29\n",
      "895         True    171.81       103.68        103.80       2.98  113.82\n",
      "151         True    172.07       103.80        104.38       3.02  112.93\n",
      "710         True    172.03       103.97        103.86       3.07  112.65\n",
      "611         True    171.80       103.68        103.49       3.30  112.84\n",
      "413         True    172.30       103.66        103.50       3.16  112.95\n",
      "1121       False    171.40       104.38        104.19       3.17  112.39\n",
      "871         True    171.37       104.07        103.75       3.07  113.27\n",
      "1435       False    172.66       104.33        104.41       3.56  111.47\n",
      "1076       False    171.57       104.27        104.44       3.21  111.87\n",
      "445         True    172.34       104.42        103.22       3.01  112.97\n",
      "410         True    172.56       103.72        103.51       3.12  112.95\n",
      "481         True    171.81       103.53        103.96       2.71  113.99\n",
      "1303       False    172.17       104.49        103.76       2.93  111.21\n",
      "798         True    171.96       103.84        103.62       3.01  114.44\n",
      "675         True    171.60       103.85        103.91       2.56  113.27\n",
      "99          True    171.93       104.07        104.18       3.14  113.08\n",
      "844         True    171.62       104.14        104.49       2.99  113.35\n",
      "72          True    171.94       103.89        103.45       3.25  112.79\n",
      "845         True    172.02       104.21        104.05       2.90  113.62\n",
      "1347       False    171.72       104.46        104.12       3.61  110.31\n",
      "981         True    172.02       104.23        103.72       2.99  113.37\n",
      "946         True    171.63       103.87        104.66       3.27  112.68\n",
      "1438       False    171.90       104.28        104.29       3.24  111.49\n",
      "1176       False    171.59       104.05        103.94       3.02  111.29\n",
      "945         True    172.09       103.74        103.52       3.02  112.78\n",
      "739         True    172.07       103.74        103.76       3.09  112.41\n",
      "919         True    171.92       103.68        103.45       2.58  113.68\n",
      "241         True    171.83       104.14        104.06       3.02  112.36\n",
      "742         True    172.14       104.06        103.96       3.24  113.07\n",
      "197         True    171.45       103.66        103.80       3.62  113.27\n",
      "251         True    171.80       103.26        102.82       2.95  113.22\n",
      "1315       False    172.08       104.15        104.17       3.40  112.29\n",
      "505         True    172.01       103.97        104.05       2.98  113.65\n",
      "654         True    171.97       103.69        103.54       2.70  112.79\n",
      "334         True    171.85       103.70        103.96       3.00  113.36\n"
     ]
    }
   ],
   "source": [
    "#5. Create the x_test from the test data.\n",
    "\n",
    "x_test = df_test.drop(\"margin_low\", axis = 1)\n",
    "print(x_test.shape)\n",
    "print(x_test)"
   ]
  },
  {
   "cell_type": "code",
   "execution_count": 164,
   "id": "8aecd322",
   "metadata": {},
   "outputs": [
    {
     "name": "stdout",
     "output_type": "stream",
     "text": [
      "(37,)\n"
     ]
    }
   ],
   "source": [
    "#6. Apply the model on x_test and predict the missing values.\n",
    "\n",
    "y_pred = lr.predict(x_test)\n",
    "y_pred\n",
    "print(y_pred.shape)"
   ]
  },
  {
   "cell_type": "code",
   "execution_count": 165,
   "id": "8f1dec87",
   "metadata": {},
   "outputs": [
    {
     "data": {
      "text/plain": [
       "array([4.09276238, 4.07412432, 4.12353555, 4.13400328, 4.11586845,\n",
       "       4.05106842, 4.07363322, 5.264817  , 4.12193808, 5.17345045,\n",
       "       5.25968515, 4.11897255, 4.0807278 , 4.18037978, 5.30206887,\n",
       "       4.11250192, 4.22555104, 4.11199026, 4.15717623, 4.06495361,\n",
       "       4.16028787, 5.1754678 , 4.13384101, 4.09696025, 5.24675055,\n",
       "       5.28251853, 4.10962313, 4.10284101, 4.19842271, 4.1403993 ,\n",
       "       4.08184346, 3.99357074, 4.09428392, 5.20035843, 4.13648423,\n",
       "       4.17837685, 4.12538999])"
      ]
     },
     "execution_count": 165,
     "metadata": {},
     "output_type": "execute_result"
    }
   ],
   "source": [
    "y_pred"
   ]
  },
  {
   "cell_type": "code",
   "execution_count": 166,
   "id": "abc84574",
   "metadata": {},
   "outputs": [
    {
     "name": "stdout",
     "output_type": "stream",
     "text": [
      "(1500, 7)\n"
     ]
    }
   ],
   "source": [
    "#7. Replace the missing values with the predicted values.\n",
    "\n",
    "df_test.loc[df_test.margin_low.isnull(), \"margin_low\"] = y_pred\n",
    "\n",
    "df = df_test.append(df, ignore_index=False)\n",
    "\n",
    "print(df.shape)"
   ]
  },
  {
   "cell_type": "code",
   "execution_count": 167,
   "id": "f8971147",
   "metadata": {},
   "outputs": [
    {
     "data": {
      "text/plain": [
       "is_genuine      0\n",
       "diagonal        0\n",
       "height_left     0\n",
       "height_right    0\n",
       "margin_low      0\n",
       "margin_up       0\n",
       "length          0\n",
       "dtype: int64"
      ]
     },
     "execution_count": 167,
     "metadata": {},
     "output_type": "execute_result"
    }
   ],
   "source": [
    "df.isnull().sum()"
   ]
  },
  {
   "cell_type": "code",
   "execution_count": 168,
   "id": "7be91e8f",
   "metadata": {},
   "outputs": [
    {
     "data": {
      "text/html": [
       "<div>\n",
       "<style scoped>\n",
       "    .dataframe tbody tr th:only-of-type {\n",
       "        vertical-align: middle;\n",
       "    }\n",
       "\n",
       "    .dataframe tbody tr th {\n",
       "        vertical-align: top;\n",
       "    }\n",
       "\n",
       "    .dataframe thead th {\n",
       "        text-align: right;\n",
       "    }\n",
       "</style>\n",
       "<table border=\"1\" class=\"dataframe\">\n",
       "  <thead>\n",
       "    <tr style=\"text-align: right;\">\n",
       "      <th></th>\n",
       "      <th>diagonal</th>\n",
       "      <th>height_left</th>\n",
       "      <th>height_right</th>\n",
       "      <th>margin_low</th>\n",
       "      <th>margin_up</th>\n",
       "      <th>length</th>\n",
       "    </tr>\n",
       "  </thead>\n",
       "  <tbody>\n",
       "    <tr>\n",
       "      <th>count</th>\n",
       "      <td>1500.000000</td>\n",
       "      <td>1500.000000</td>\n",
       "      <td>1500.000000</td>\n",
       "      <td>1500.000000</td>\n",
       "      <td>1500.000000</td>\n",
       "      <td>1500.00000</td>\n",
       "    </tr>\n",
       "    <tr>\n",
       "      <th>mean</th>\n",
       "      <td>171.958440</td>\n",
       "      <td>104.029533</td>\n",
       "      <td>103.920307</td>\n",
       "      <td>4.482844</td>\n",
       "      <td>3.151473</td>\n",
       "      <td>112.67850</td>\n",
       "    </tr>\n",
       "    <tr>\n",
       "      <th>std</th>\n",
       "      <td>0.305195</td>\n",
       "      <td>0.299462</td>\n",
       "      <td>0.325627</td>\n",
       "      <td>0.659899</td>\n",
       "      <td>0.231813</td>\n",
       "      <td>0.87273</td>\n",
       "    </tr>\n",
       "    <tr>\n",
       "      <th>min</th>\n",
       "      <td>171.040000</td>\n",
       "      <td>103.140000</td>\n",
       "      <td>102.820000</td>\n",
       "      <td>2.980000</td>\n",
       "      <td>2.270000</td>\n",
       "      <td>109.49000</td>\n",
       "    </tr>\n",
       "    <tr>\n",
       "      <th>25%</th>\n",
       "      <td>171.750000</td>\n",
       "      <td>103.820000</td>\n",
       "      <td>103.710000</td>\n",
       "      <td>4.027500</td>\n",
       "      <td>2.990000</td>\n",
       "      <td>112.03000</td>\n",
       "    </tr>\n",
       "    <tr>\n",
       "      <th>50%</th>\n",
       "      <td>171.960000</td>\n",
       "      <td>104.040000</td>\n",
       "      <td>103.920000</td>\n",
       "      <td>4.310000</td>\n",
       "      <td>3.140000</td>\n",
       "      <td>112.96000</td>\n",
       "    </tr>\n",
       "    <tr>\n",
       "      <th>75%</th>\n",
       "      <td>172.170000</td>\n",
       "      <td>104.230000</td>\n",
       "      <td>104.150000</td>\n",
       "      <td>4.870000</td>\n",
       "      <td>3.310000</td>\n",
       "      <td>113.34000</td>\n",
       "    </tr>\n",
       "    <tr>\n",
       "      <th>max</th>\n",
       "      <td>173.010000</td>\n",
       "      <td>104.880000</td>\n",
       "      <td>104.950000</td>\n",
       "      <td>6.900000</td>\n",
       "      <td>3.910000</td>\n",
       "      <td>114.44000</td>\n",
       "    </tr>\n",
       "  </tbody>\n",
       "</table>\n",
       "</div>"
      ],
      "text/plain": [
       "          diagonal  height_left  height_right   margin_low    margin_up  \\\n",
       "count  1500.000000  1500.000000   1500.000000  1500.000000  1500.000000   \n",
       "mean    171.958440   104.029533    103.920307     4.482844     3.151473   \n",
       "std       0.305195     0.299462      0.325627     0.659899     0.231813   \n",
       "min     171.040000   103.140000    102.820000     2.980000     2.270000   \n",
       "25%     171.750000   103.820000    103.710000     4.027500     2.990000   \n",
       "50%     171.960000   104.040000    103.920000     4.310000     3.140000   \n",
       "75%     172.170000   104.230000    104.150000     4.870000     3.310000   \n",
       "max     173.010000   104.880000    104.950000     6.900000     3.910000   \n",
       "\n",
       "           length  \n",
       "count  1500.00000  \n",
       "mean    112.67850  \n",
       "std       0.87273  \n",
       "min     109.49000  \n",
       "25%     112.03000  \n",
       "50%     112.96000  \n",
       "75%     113.34000  \n",
       "max     114.44000  "
      ]
     },
     "execution_count": 168,
     "metadata": {},
     "output_type": "execute_result"
    }
   ],
   "source": [
    "df.describe()"
   ]
  },
  {
   "cell_type": "markdown",
   "id": "ecd5c381",
   "metadata": {},
   "source": [
    "When we look to the values which was not missing and we compare the results of the linear regression, we can see that the results are coherent.\n",
    "\n",
    "We have values between 2.98 and 6.98 when we look at the stats descriptions in the Out 17 before we did the linear regression. And after the linear regression the y_pred gives us values between 4 and 5. And also the stats descriptions post linear regression show values between 2.98 and 6.98."
   ]
  },
  {
   "cell_type": "code",
   "execution_count": 169,
   "id": "4b6b9d06",
   "metadata": {},
   "outputs": [
    {
     "name": "stdout",
     "output_type": "stream",
     "text": [
      "Mean = 4.482844418751937\n",
      "Median = 4.31\n",
      "Mode = 0    4.08\n",
      "1    4.10\n",
      "2    4.18\n",
      "Name: margin_low, dtype: float64\n",
      "Skewness = 0.8754684001564659\n",
      "Kurtosis = 0.24718290989648795\n",
      "Variance = 0.4354671723677865\n"
     ]
    },
    {
     "data": {
      "text/plain": [
       "<matplotlib.legend.Legend at 0x17d35f34a30>"
      ]
     },
     "execution_count": 169,
     "metadata": {},
     "output_type": "execute_result"
    },
    {
     "data": {
      "image/png": "[encoded data removed]",
      "text/plain": [
       "<Figure size 360x360 with 1 Axes>"
      ]
     },
     "metadata": {
      "needs_background": "light"
     },
     "output_type": "display_data"
    }
   ],
   "source": [
    "print(\"Mean =\", df[\"margin_low\"].mean())\n",
    "print(\"Median =\", df[\"margin_low\"].median())\n",
    "print(\"Mode =\", df[\"margin_low\"].mode())\n",
    "print(\"Skewness =\", df[\"margin_low\"].skew())\n",
    "print(\"Kurtosis =\", df[\"margin_low\"].kurtosis())\n",
    "print(\"Variance =\", df[\"margin_low\"].var())\n",
    "sns.displot(data=df, x=\"margin_low\")\n",
    "plt.axvline(x=df.margin_low.mean(), linewidth=3, color='r', label=\"mean\", alpha=0.5)\n",
    "plt.axvline(x=df.margin_low.median(), linewidth=3, color='b', label=\"median\", alpha=0.5)\n",
    "#plt.axvline(x=df.diagonal.mode(), linewidth=3, color='y', label=\"mode\", alpha=0.5)\n",
    "\n",
    "# set title, legends and labels\n",
    "plt.xlabel(\"margin_low\")\n",
    "plt.ylabel(\"Count\")\n",
    "plt.title(\"Distribution of margin_low\", size=14)\n",
    "plt.legend([\"Mean\", \"Median\"])"
   ]
  },
  {
   "cell_type": "markdown",
   "id": "c3d7993e",
   "metadata": {},
   "source": [
    "La distribution de la variable margin_low n'a pas beaucoup changée suit à l'imputation des valeurs manquantes.\n",
    "\n",
    "Sa distribution est assymetric (positive / droite).\n",
    "\n",
    "Cette variable est de type quantitatif continue.\n",
    "\n",
    "Elle est moins concentrée autour de la moyenne, il y a plus de variance que par rapport aux variables de taille."
   ]
  },
  {
   "cell_type": "markdown",
   "id": "3153e12c",
   "metadata": {},
   "source": [
    "***"
   ]
  },
  {
   "cell_type": "markdown",
   "id": "8724e4c5",
   "metadata": {},
   "source": [
    "### Feature Scaling\n",
    "\n",
    "All my data are in the same scale (milimeters), so I don't need to scale them."
   ]
  },
  {
   "cell_type": "markdown",
   "id": "89f07e96",
   "metadata": {},
   "source": [
    "***"
   ]
  },
  {
   "cell_type": "markdown",
   "id": "c78e37b8",
   "metadata": {},
   "source": [
    "### Label Encoding"
   ]
  },
  {
   "cell_type": "code",
   "execution_count": 170,
   "id": "cde7aa34",
   "metadata": {},
   "outputs": [
    {
     "data": {
      "text/plain": [
       "780     1\n",
       "284     1\n",
       "895     1\n",
       "151     1\n",
       "710     1\n",
       "       ..\n",
       "1308    0\n",
       "1467    0\n",
       "507     1\n",
       "5       1\n",
       "951     1\n",
       "Name: is_genuine, Length: 1500, dtype: int32"
      ]
     },
     "execution_count": 170,
     "metadata": {},
     "output_type": "execute_result"
    }
   ],
   "source": [
    "from sklearn import preprocessing\n",
    "lb = preprocessing.LabelBinarizer()\n",
    "df[\"is_genuine\"] = lb.fit_transform(df[\"is_genuine\"])\n",
    "df[\"is_genuine\"]"
   ]
  },
  {
   "cell_type": "markdown",
   "id": "3f02bd5a",
   "metadata": {},
   "source": [
    "***"
   ]
  },
  {
   "cell_type": "markdown",
   "id": "7ef77f46",
   "metadata": {},
   "source": [
    "### Train Test Split"
   ]
  },
  {
   "cell_type": "code",
   "execution_count": 171,
   "id": "08c0355e",
   "metadata": {},
   "outputs": [],
   "source": [
    "from sklearn.model_selection import train_test_split\n",
    "\n",
    "y = df[\"is_genuine\"]\n",
    "x = df.drop([\"is_genuine\"], axis = 1)\n",
    "\n",
    "x_train, x_test, y_train, y_test = train_test_split(x, y, test_size = 0.30)"
   ]
  },
  {
   "cell_type": "markdown",
   "id": "3f335ce6",
   "metadata": {},
   "source": [
    "***"
   ]
  },
  {
   "cell_type": "markdown",
   "id": "add67d47",
   "metadata": {},
   "source": [
    "### Linear Regression Importation"
   ]
  },
  {
   "cell_type": "code",
   "execution_count": 172,
   "id": "d5305716",
   "metadata": {},
   "outputs": [],
   "source": [
    "from sklearn.linear_model import LogisticRegression\n",
    "\n",
    "logr = LogisticRegression()"
   ]
  },
  {
   "cell_type": "markdown",
   "id": "860eea1b",
   "metadata": {},
   "source": [
    "***"
   ]
  },
  {
   "cell_type": "markdown",
   "id": "1ebe9b00",
   "metadata": {},
   "source": [
    "### GridSerachCV"
   ]
  },
  {
   "cell_type": "code",
   "execution_count": 173,
   "id": "bb5cb050",
   "metadata": {},
   "outputs": [],
   "source": [
    "from sklearn.model_selection import cross_val_score\n",
    "from sklearn.model_selection import GridSearchCV\n",
    "\n",
    "parameters = [{'penalty':[\"l1\", \"l2\", \"elasticnet\", \"none\"], \n",
    "              'C':np.logspace(-4, 4, 20),\n",
    "              'solver':[\"lbfgs\", \"newton-cg\", \"liblinear\", \"sag\", \"saga\"]}]\n",
    "#1000, 2500, 5000\n",
    "grid = GridSearchCV(logr, param_grid = parameters, cv = 5)"
   ]
  },
  {
   "cell_type": "code",
   "execution_count": 174,
   "id": "de67667e",
   "metadata": {},
   "outputs": [],
   "source": [
    "best_params = grid.fit(x_train, y_train)"
   ]
  },
  {
   "cell_type": "code",
   "execution_count": 175,
   "id": "9380ae34",
   "metadata": {},
   "outputs": [
    {
     "data": {
      "text/plain": [
       "0.9914285714285714"
      ]
     },
     "execution_count": 175,
     "metadata": {},
     "output_type": "execute_result"
    }
   ],
   "source": [
    "grid.best_score_"
   ]
  },
  {
   "cell_type": "code",
   "execution_count": 176,
   "id": "a77dc6ef",
   "metadata": {},
   "outputs": [
    {
     "data": {
      "text/html": [
       "<style>#sk-container-id-4 {color: black;background-color: white;}#sk-container-id-4 pre{padding: 0;}#sk-container-id-4 div.sk-toggleable {background-color: white;}#sk-container-id-4 label.sk-toggleable__label {cursor: pointer;display: block;width: 100%;margin-bottom: 0;padding: 0.3em;box-sizing: border-box;text-align: center;}#sk-container-id-4 label.sk-toggleable__label-arrow:before {content: \"▸\";float: left;margin-right: 0.25em;color: #696969;}#sk-container-id-4 label.sk-toggleable__label-arrow:hover:before {color: black;}#sk-container-id-4 div.sk-estimator:hover label.sk-toggleable__label-arrow:before {color: black;}#sk-container-id-4 div.sk-toggleable__content {max-height: 0;max-width: 0;overflow: hidden;text-align: left;background-color: #f0f8ff;}#sk-container-id-4 div.sk-toggleable__content pre {margin: 0.2em;color: black;border-radius: 0.25em;background-color: #f0f8ff;}#sk-container-id-4 input.sk-toggleable__control:checked~div.sk-toggleable__content {max-height: 200px;max-width: 100%;overflow: auto;}#sk-container-id-4 input.sk-toggleable__control:checked~label.sk-toggleable__label-arrow:before {content: \"▾\";}#sk-container-id-4 div.sk-estimator input.sk-toggleable__control:checked~label.sk-toggleable__label {background-color: #d4ebff;}#sk-container-id-4 div.sk-label input.sk-toggleable__control:checked~label.sk-toggleable__label {background-color: #d4ebff;}#sk-container-id-4 input.sk-hidden--visually {border: 0;clip: rect(1px 1px 1px 1px);clip: rect(1px, 1px, 1px, 1px);height: 1px;margin: -1px;overflow: hidden;padding: 0;position: absolute;width: 1px;}#sk-container-id-4 div.sk-estimator {font-family: monospace;background-color: #f0f8ff;border: 1px dotted black;border-radius: 0.25em;box-sizing: border-box;margin-bottom: 0.5em;}#sk-container-id-4 div.sk-estimator:hover {background-color: #d4ebff;}#sk-container-id-4 div.sk-parallel-item::after {content: \"\";width: 100%;border-bottom: 1px solid gray;flex-grow: 1;}#sk-container-id-4 div.sk-label:hover label.sk-toggleable__label {background-color: #d4ebff;}#sk-container-id-4 div.sk-serial::before {content: \"\";position: absolute;border-left: 1px solid gray;box-sizing: border-box;top: 0;bottom: 0;left: 50%;z-index: 0;}#sk-container-id-4 div.sk-serial {display: flex;flex-direction: column;align-items: center;background-color: white;padding-right: 0.2em;padding-left: 0.2em;position: relative;}#sk-container-id-4 div.sk-item {position: relative;z-index: 1;}#sk-container-id-4 div.sk-parallel {display: flex;align-items: stretch;justify-content: center;background-color: white;position: relative;}#sk-container-id-4 div.sk-item::before, #sk-container-id-4 div.sk-parallel-item::before {content: \"\";position: absolute;border-left: 1px solid gray;box-sizing: border-box;top: 0;bottom: 0;left: 50%;z-index: -1;}#sk-container-id-4 div.sk-parallel-item {display: flex;flex-direction: column;z-index: 1;position: relative;background-color: white;}#sk-container-id-4 div.sk-parallel-item:first-child::after {align-self: flex-end;width: 50%;}#sk-container-id-4 div.sk-parallel-item:last-child::after {align-self: flex-start;width: 50%;}#sk-container-id-4 div.sk-parallel-item:only-child::after {width: 0;}#sk-container-id-4 div.sk-dashed-wrapped {border: 1px dashed gray;margin: 0 0.4em 0.5em 0.4em;box-sizing: border-box;padding-bottom: 0.4em;background-color: white;}#sk-container-id-4 div.sk-label label {font-family: monospace;font-weight: bold;display: inline-block;line-height: 1.2em;}#sk-container-id-4 div.sk-label-container {text-align: center;}#sk-container-id-4 div.sk-container {/* jupyter's `normalize.less` sets `[hidden] { display: none; }` but bootstrap.min.css set `[hidden] { display: none !important; }` so we also need the `!important` here to be able to override the default hidden behavior on the sphinx rendered scikit-learn.org. See: https://github.com/scikit-learn/scikit-learn/issues/21755 */display: inline-block !important;position: relative;}#sk-container-id-4 div.sk-text-repr-fallback {display: none;}</style><div id=\"sk-container-id-4\" class=\"sk-top-container\"><div class=\"sk-text-repr-fallback\"><pre>LogisticRegression(C=1.623776739188721)</pre><b>In a Jupyter environment, please rerun this cell to show the HTML representation or trust the notebook. <br />On GitHub, the HTML representation is unable to render, please try loading this page with nbviewer.org.</b></div><div class=\"sk-container\" hidden><div class=\"sk-item\"><div class=\"sk-estimator sk-toggleable\"><input class=\"sk-toggleable__control sk-hidden--visually\" id=\"sk-estimator-id-4\" type=\"checkbox\" checked><label for=\"sk-estimator-id-4\" class=\"sk-toggleable__label sk-toggleable__label-arrow\">LogisticRegression</label><div class=\"sk-toggleable__content\"><pre>LogisticRegression(C=1.623776739188721)</pre></div></div></div></div></div>"
      ],
      "text/plain": [
       "LogisticRegression(C=1.623776739188721)"
      ]
     },
     "execution_count": 176,
     "metadata": {},
     "output_type": "execute_result"
    }
   ],
   "source": [
    "best_params.best_estimator_"
   ]
  },
  {
   "cell_type": "markdown",
   "id": "2a334632",
   "metadata": {},
   "source": [
    "***"
   ]
  },
  {
   "cell_type": "markdown",
   "id": "2e68ff28",
   "metadata": {},
   "source": [
    "### Parameters Tuning for Logistic Regression"
   ]
  },
  {
   "cell_type": "code",
   "execution_count": 177,
   "id": "f1c92b85",
   "metadata": {},
   "outputs": [],
   "source": [
    "logr_grid = best_params.best_estimator_"
   ]
  },
  {
   "cell_type": "markdown",
   "id": "e9e0cda1",
   "metadata": {},
   "source": [
    "***"
   ]
  },
  {
   "cell_type": "markdown",
   "id": "ea4e0a38",
   "metadata": {},
   "source": [
    "### Evaluation of the Logistic Regression"
   ]
  },
  {
   "cell_type": "code",
   "execution_count": 178,
   "id": "7b91a810",
   "metadata": {},
   "outputs": [
    {
     "data": {
      "text/plain": [
       "0.9911111111111112"
      ]
     },
     "execution_count": 178,
     "metadata": {},
     "output_type": "execute_result"
    }
   ],
   "source": [
    "logr_grid.score(x_test, y_test)"
   ]
  },
  {
   "cell_type": "code",
   "execution_count": 179,
   "id": "4b1f449a",
   "metadata": {},
   "outputs": [
    {
     "data": {
      "text/html": [
       "<div>\n",
       "<style scoped>\n",
       "    .dataframe tbody tr th:only-of-type {\n",
       "        vertical-align: middle;\n",
       "    }\n",
       "\n",
       "    .dataframe tbody tr th {\n",
       "        vertical-align: top;\n",
       "    }\n",
       "\n",
       "    .dataframe thead th {\n",
       "        text-align: right;\n",
       "    }\n",
       "</style>\n",
       "<table border=\"1\" class=\"dataframe\">\n",
       "  <thead>\n",
       "    <tr style=\"text-align: right;\">\n",
       "      <th></th>\n",
       "      <th>0</th>\n",
       "    </tr>\n",
       "  </thead>\n",
       "  <tbody>\n",
       "    <tr>\n",
       "      <th>0</th>\n",
       "      <td>1</td>\n",
       "    </tr>\n",
       "    <tr>\n",
       "      <th>1</th>\n",
       "      <td>1</td>\n",
       "    </tr>\n",
       "    <tr>\n",
       "      <th>2</th>\n",
       "      <td>1</td>\n",
       "    </tr>\n",
       "    <tr>\n",
       "      <th>3</th>\n",
       "      <td>1</td>\n",
       "    </tr>\n",
       "    <tr>\n",
       "      <th>4</th>\n",
       "      <td>1</td>\n",
       "    </tr>\n",
       "  </tbody>\n",
       "</table>\n",
       "</div>"
      ],
      "text/plain": [
       "   0\n",
       "0  1\n",
       "1  1\n",
       "2  1\n",
       "3  1\n",
       "4  1"
      ]
     },
     "execution_count": 179,
     "metadata": {},
     "output_type": "execute_result"
    }
   ],
   "source": [
    "predictions = logr_grid.predict(x_test)\n",
    "predictions = pd.DataFrame(data = predictions)\n",
    "predictions.head(5)"
   ]
  },
  {
   "cell_type": "code",
   "execution_count": 180,
   "id": "6fa467ca",
   "metadata": {},
   "outputs": [
    {
     "data": {
      "text/html": [
       "<div>\n",
       "<style scoped>\n",
       "    .dataframe tbody tr th:only-of-type {\n",
       "        vertical-align: middle;\n",
       "    }\n",
       "\n",
       "    .dataframe tbody tr th {\n",
       "        vertical-align: top;\n",
       "    }\n",
       "\n",
       "    .dataframe thead th {\n",
       "        text-align: right;\n",
       "    }\n",
       "</style>\n",
       "<table border=\"1\" class=\"dataframe\">\n",
       "  <thead>\n",
       "    <tr style=\"text-align: right;\">\n",
       "      <th></th>\n",
       "      <th>0</th>\n",
       "      <th>1</th>\n",
       "    </tr>\n",
       "  </thead>\n",
       "  <tbody>\n",
       "    <tr>\n",
       "      <th>0</th>\n",
       "      <td>0.004540</td>\n",
       "      <td>0.995460</td>\n",
       "    </tr>\n",
       "    <tr>\n",
       "      <th>1</th>\n",
       "      <td>0.020057</td>\n",
       "      <td>0.979943</td>\n",
       "    </tr>\n",
       "    <tr>\n",
       "      <th>2</th>\n",
       "      <td>0.000113</td>\n",
       "      <td>0.999887</td>\n",
       "    </tr>\n",
       "  </tbody>\n",
       "</table>\n",
       "</div>"
      ],
      "text/plain": [
       "          0         1\n",
       "0  0.004540  0.995460\n",
       "1  0.020057  0.979943\n",
       "2  0.000113  0.999887"
      ]
     },
     "execution_count": 180,
     "metadata": {},
     "output_type": "execute_result"
    }
   ],
   "source": [
    "probabilities = logr_grid.predict_proba(x_test)\n",
    "probabilities = pd.DataFrame(data = probabilities)\n",
    "probabilities.head(3)"
   ]
  },
  {
   "cell_type": "code",
   "execution_count": 181,
   "id": "8c57979e",
   "metadata": {},
   "outputs": [
    {
     "data": {
      "text/html": [
       "<div>\n",
       "<style scoped>\n",
       "    .dataframe tbody tr th:only-of-type {\n",
       "        vertical-align: middle;\n",
       "    }\n",
       "\n",
       "    .dataframe tbody tr th {\n",
       "        vertical-align: top;\n",
       "    }\n",
       "\n",
       "    .dataframe thead th {\n",
       "        text-align: right;\n",
       "    }\n",
       "</style>\n",
       "<table border=\"1\" class=\"dataframe\">\n",
       "  <thead>\n",
       "    <tr style=\"text-align: right;\">\n",
       "      <th></th>\n",
       "      <th>predicitons</th>\n",
       "      <th>0</th>\n",
       "      <th>1</th>\n",
       "    </tr>\n",
       "  </thead>\n",
       "  <tbody>\n",
       "    <tr>\n",
       "      <th>0</th>\n",
       "      <td>1</td>\n",
       "      <td>0.005</td>\n",
       "      <td>0.995</td>\n",
       "    </tr>\n",
       "    <tr>\n",
       "      <th>1</th>\n",
       "      <td>1</td>\n",
       "      <td>0.020</td>\n",
       "      <td>0.980</td>\n",
       "    </tr>\n",
       "    <tr>\n",
       "      <th>2</th>\n",
       "      <td>1</td>\n",
       "      <td>0.000</td>\n",
       "      <td>1.000</td>\n",
       "    </tr>\n",
       "    <tr>\n",
       "      <th>3</th>\n",
       "      <td>1</td>\n",
       "      <td>0.089</td>\n",
       "      <td>0.911</td>\n",
       "    </tr>\n",
       "    <tr>\n",
       "      <th>4</th>\n",
       "      <td>1</td>\n",
       "      <td>0.038</td>\n",
       "      <td>0.962</td>\n",
       "    </tr>\n",
       "    <tr>\n",
       "      <th>...</th>\n",
       "      <td>...</td>\n",
       "      <td>...</td>\n",
       "      <td>...</td>\n",
       "    </tr>\n",
       "    <tr>\n",
       "      <th>445</th>\n",
       "      <td>1</td>\n",
       "      <td>0.022</td>\n",
       "      <td>0.978</td>\n",
       "    </tr>\n",
       "    <tr>\n",
       "      <th>446</th>\n",
       "      <td>1</td>\n",
       "      <td>0.000</td>\n",
       "      <td>1.000</td>\n",
       "    </tr>\n",
       "    <tr>\n",
       "      <th>447</th>\n",
       "      <td>0</td>\n",
       "      <td>1.000</td>\n",
       "      <td>0.000</td>\n",
       "    </tr>\n",
       "    <tr>\n",
       "      <th>448</th>\n",
       "      <td>1</td>\n",
       "      <td>0.129</td>\n",
       "      <td>0.871</td>\n",
       "    </tr>\n",
       "    <tr>\n",
       "      <th>449</th>\n",
       "      <td>0</td>\n",
       "      <td>0.994</td>\n",
       "      <td>0.006</td>\n",
       "    </tr>\n",
       "  </tbody>\n",
       "</table>\n",
       "<p>450 rows × 3 columns</p>\n",
       "</div>"
      ],
      "text/plain": [
       "     predicitons      0      1\n",
       "0              1  0.005  0.995\n",
       "1              1  0.020  0.980\n",
       "2              1  0.000  1.000\n",
       "3              1  0.089  0.911\n",
       "4              1  0.038  0.962\n",
       "..           ...    ...    ...\n",
       "445            1  0.022  0.978\n",
       "446            1  0.000  1.000\n",
       "447            0  1.000  0.000\n",
       "448            1  0.129  0.871\n",
       "449            0  0.994  0.006\n",
       "\n",
       "[450 rows x 3 columns]"
      ]
     },
     "execution_count": 181,
     "metadata": {},
     "output_type": "execute_result"
    }
   ],
   "source": [
    "comparaisons = pd.merge(predictions, probabilities, left_index=True, right_index=True)\n",
    "comparaisons.rename(columns = {'0_x':'predicitons', '0_y':'0'}, inplace = True)\n",
    "comparaisons.round(3)"
   ]
  },
  {
   "cell_type": "code",
   "execution_count": 182,
   "id": "117172e9",
   "metadata": {},
   "outputs": [
    {
     "data": {
      "text/html": [
       "<div>\n",
       "<style scoped>\n",
       "    .dataframe tbody tr th:only-of-type {\n",
       "        vertical-align: middle;\n",
       "    }\n",
       "\n",
       "    .dataframe tbody tr th {\n",
       "        vertical-align: top;\n",
       "    }\n",
       "\n",
       "    .dataframe thead th {\n",
       "        text-align: right;\n",
       "    }\n",
       "</style>\n",
       "<table border=\"1\" class=\"dataframe\">\n",
       "  <thead>\n",
       "    <tr style=\"text-align: right;\">\n",
       "      <th></th>\n",
       "      <th>is_genuine</th>\n",
       "    </tr>\n",
       "  </thead>\n",
       "  <tbody>\n",
       "    <tr>\n",
       "      <th>0</th>\n",
       "      <td>1</td>\n",
       "    </tr>\n",
       "    <tr>\n",
       "      <th>1</th>\n",
       "      <td>1</td>\n",
       "    </tr>\n",
       "    <tr>\n",
       "      <th>2</th>\n",
       "      <td>1</td>\n",
       "    </tr>\n",
       "    <tr>\n",
       "      <th>3</th>\n",
       "      <td>1</td>\n",
       "    </tr>\n",
       "    <tr>\n",
       "      <th>4</th>\n",
       "      <td>1</td>\n",
       "    </tr>\n",
       "  </tbody>\n",
       "</table>\n",
       "</div>"
      ],
      "text/plain": [
       "   is_genuine\n",
       "0           1\n",
       "1           1\n",
       "2           1\n",
       "3           1\n",
       "4           1"
      ]
     },
     "execution_count": 182,
     "metadata": {},
     "output_type": "execute_result"
    }
   ],
   "source": [
    "y_test_answers = pd.DataFrame(data = y_test)\n",
    "y_test_answers = y_test_answers.reset_index()\n",
    "y_test_answers.drop([\"index\"], axis = 1, inplace = True)\n",
    "y_test_answers.head(5)"
   ]
  },
  {
   "cell_type": "code",
   "execution_count": 183,
   "id": "fbaffb93",
   "metadata": {},
   "outputs": [
    {
     "data": {
      "text/html": [
       "<div>\n",
       "<style scoped>\n",
       "    .dataframe tbody tr th:only-of-type {\n",
       "        vertical-align: middle;\n",
       "    }\n",
       "\n",
       "    .dataframe tbody tr th {\n",
       "        vertical-align: top;\n",
       "    }\n",
       "\n",
       "    .dataframe thead th {\n",
       "        text-align: right;\n",
       "    }\n",
       "</style>\n",
       "<table border=\"1\" class=\"dataframe\">\n",
       "  <thead>\n",
       "    <tr style=\"text-align: right;\">\n",
       "      <th></th>\n",
       "      <th>predicitons</th>\n",
       "      <th>0</th>\n",
       "      <th>1</th>\n",
       "      <th>is_genuine</th>\n",
       "    </tr>\n",
       "  </thead>\n",
       "  <tbody>\n",
       "    <tr>\n",
       "      <th>0</th>\n",
       "      <td>1</td>\n",
       "      <td>0.005</td>\n",
       "      <td>0.995</td>\n",
       "      <td>1</td>\n",
       "    </tr>\n",
       "    <tr>\n",
       "      <th>1</th>\n",
       "      <td>1</td>\n",
       "      <td>0.020</td>\n",
       "      <td>0.980</td>\n",
       "      <td>1</td>\n",
       "    </tr>\n",
       "    <tr>\n",
       "      <th>2</th>\n",
       "      <td>1</td>\n",
       "      <td>0.000</td>\n",
       "      <td>1.000</td>\n",
       "      <td>1</td>\n",
       "    </tr>\n",
       "    <tr>\n",
       "      <th>3</th>\n",
       "      <td>1</td>\n",
       "      <td>0.089</td>\n",
       "      <td>0.911</td>\n",
       "      <td>1</td>\n",
       "    </tr>\n",
       "    <tr>\n",
       "      <th>4</th>\n",
       "      <td>1</td>\n",
       "      <td>0.038</td>\n",
       "      <td>0.962</td>\n",
       "      <td>1</td>\n",
       "    </tr>\n",
       "    <tr>\n",
       "      <th>...</th>\n",
       "      <td>...</td>\n",
       "      <td>...</td>\n",
       "      <td>...</td>\n",
       "      <td>...</td>\n",
       "    </tr>\n",
       "    <tr>\n",
       "      <th>445</th>\n",
       "      <td>1</td>\n",
       "      <td>0.022</td>\n",
       "      <td>0.978</td>\n",
       "      <td>1</td>\n",
       "    </tr>\n",
       "    <tr>\n",
       "      <th>446</th>\n",
       "      <td>1</td>\n",
       "      <td>0.000</td>\n",
       "      <td>1.000</td>\n",
       "      <td>1</td>\n",
       "    </tr>\n",
       "    <tr>\n",
       "      <th>447</th>\n",
       "      <td>0</td>\n",
       "      <td>1.000</td>\n",
       "      <td>0.000</td>\n",
       "      <td>0</td>\n",
       "    </tr>\n",
       "    <tr>\n",
       "      <th>448</th>\n",
       "      <td>1</td>\n",
       "      <td>0.129</td>\n",
       "      <td>0.871</td>\n",
       "      <td>1</td>\n",
       "    </tr>\n",
       "    <tr>\n",
       "      <th>449</th>\n",
       "      <td>0</td>\n",
       "      <td>0.994</td>\n",
       "      <td>0.006</td>\n",
       "      <td>0</td>\n",
       "    </tr>\n",
       "  </tbody>\n",
       "</table>\n",
       "<p>450 rows × 4 columns</p>\n",
       "</div>"
      ],
      "text/plain": [
       "     predicitons      0      1  is_genuine\n",
       "0              1  0.005  0.995           1\n",
       "1              1  0.020  0.980           1\n",
       "2              1  0.000  1.000           1\n",
       "3              1  0.089  0.911           1\n",
       "4              1  0.038  0.962           1\n",
       "..           ...    ...    ...         ...\n",
       "445            1  0.022  0.978           1\n",
       "446            1  0.000  1.000           1\n",
       "447            0  1.000  0.000           0\n",
       "448            1  0.129  0.871           1\n",
       "449            0  0.994  0.006           0\n",
       "\n",
       "[450 rows x 4 columns]"
      ]
     },
     "execution_count": 183,
     "metadata": {},
     "output_type": "execute_result"
    }
   ],
   "source": [
    "comparaisons = pd.merge(comparaisons, y_test_answers, left_index=True, right_index=True)\n",
    "comparaisons.round(3)"
   ]
  },
  {
   "cell_type": "code",
   "execution_count": 184,
   "id": "62d066e0",
   "metadata": {},
   "outputs": [
    {
     "name": "stdout",
     "output_type": "stream",
     "text": [
      "     predicitons         0         1  is_genuine  CM\n",
      "123            1  0.191087  0.808913           0  FP\n",
      "\n",
      "\n",
      "     predicitons         0         1  is_genuine  CM\n",
      "211            0  0.857986  0.142014           1  FN\n",
      "260            0  0.656370  0.343630           1  FN\n",
      "379            0  0.598244  0.401756           1  FN\n"
     ]
    }
   ],
   "source": [
    "conditions = [\n",
    "            (comparaisons['predicitons'] == 1) & (comparaisons['is_genuine'] == 1),\n",
    "            (comparaisons['predicitons'] == 0) & (comparaisons['is_genuine'] == 0),\n",
    "            (comparaisons['predicitons'] == 0) & (comparaisons['is_genuine'] == 1),\n",
    "            (comparaisons['predicitons'] == 1) & (comparaisons['is_genuine'] == 0)\n",
    "]\n",
    "\n",
    "\n",
    "choices = ['TP', 'TN', 'FN', \"FP\"]\n",
    "\n",
    "comparaisons['CM'] = np.select(conditions, choices)\n",
    "\n",
    "print(comparaisons[comparaisons[\"CM\"] == \"FP\"])\n",
    "print(\"\\n\")\n",
    "print(comparaisons[comparaisons[\"CM\"] == \"FN\"])"
   ]
  },
  {
   "cell_type": "code",
   "execution_count": 72,
   "id": "1a7ce9f1",
   "metadata": {},
   "outputs": [],
   "source": [
    "# 1 représentent les vrai.\n",
    "# 0 représentent les faux."
   ]
  },
  {
   "cell_type": "code",
   "execution_count": 185,
   "id": "0fb7ca5a",
   "metadata": {},
   "outputs": [
    {
     "data": {
      "text/plain": [
       "array([[150,   1],\n",
       "       [  3, 296]], dtype=int64)"
      ]
     },
     "execution_count": 185,
     "metadata": {},
     "output_type": "execute_result"
    }
   ],
   "source": [
    "from sklearn.metrics import confusion_matrix\n",
    "\n",
    "confusion_matrix(y_test, predictions)"
   ]
  },
  {
   "cell_type": "code",
   "execution_count": 186,
   "id": "fdf49a5f",
   "metadata": {},
   "outputs": [
    {
     "data": {
      "text/plain": [
       "(150, 1, 3, 296)"
      ]
     },
     "execution_count": 186,
     "metadata": {},
     "output_type": "execute_result"
    }
   ],
   "source": [
    "tn, fp, fn, tp = confusion_matrix(y_test, predictions).ravel()\n",
    "(tn, fp, fn, tp)"
   ]
  },
  {
   "cell_type": "code",
   "execution_count": 187,
   "id": "cb1589eb",
   "metadata": {},
   "outputs": [
    {
     "name": "stdout",
     "output_type": "stream",
     "text": [
      "The errors ratio is 0.006666666666666667\n"
     ]
    }
   ],
   "source": [
    "print(\"The errors ratio is\", 3/450)"
   ]
  },
  {
   "cell_type": "code",
   "execution_count": 188,
   "id": "d6a0c405",
   "metadata": {},
   "outputs": [
    {
     "name": "stdout",
     "output_type": "stream",
     "text": [
      "AUC: 0.9916720193138275\n"
     ]
    },
    {
     "data": {
      "image/png": "[encoded data removed]",
      "text/plain": [
       "<Figure size 432x288 with 1 Axes>"
      ]
     },
     "metadata": {
      "needs_background": "light"
     },
     "output_type": "display_data"
    }
   ],
   "source": [
    "from sklearn import metrics\n",
    "fpr, tpr, thresh = metrics.roc_curve(y_test,  predictions)\n",
    "auc = metrics.auc(fpr, tpr)\n",
    "print(\"AUC:\", auc)\n",
    "\n",
    "plt.plot(fpr, tpr, label='ROC curve (area = %.2f)' %auc)\n",
    "plt.plot([0, 1], [0, 1], linestyle='--', lw=2, color='r', label='Random guess')\n",
    "plt.title('ROC curve')\n",
    "plt.xlabel('False Positive Rate')\n",
    "plt.ylabel('True Positive Rate')\n",
    "plt.grid()\n",
    "plt.legend()\n",
    "plt.show()"
   ]
  },
  {
   "cell_type": "markdown",
   "id": "83e8d19d",
   "metadata": {},
   "source": [
    "***"
   ]
  },
  {
   "cell_type": "markdown",
   "id": "1f00318b",
   "metadata": {},
   "source": [
    "### Save The Model"
   ]
  },
  {
   "cell_type": "code",
   "execution_count": 189,
   "id": "0da46601",
   "metadata": {},
   "outputs": [
    {
     "data": {
      "text/plain": [
       "['lrmodel.sav']"
      ]
     },
     "execution_count": 189,
     "metadata": {},
     "output_type": "execute_result"
    }
   ],
   "source": [
    "filename = 'lrmodel.sav'\n",
    "joblib.dump(logr_grid, filename)"
   ]
  },
  {
   "cell_type": "markdown",
   "id": "a9843e20",
   "metadata": {},
   "source": [
    "***"
   ]
  },
  {
   "cell_type": "markdown",
   "id": "0b9182db",
   "metadata": {},
   "source": [
    "***"
   ]
  },
  {
   "cell_type": "markdown",
   "id": "cae91674",
   "metadata": {},
   "source": [
    "### PCA"
   ]
  },
  {
   "cell_type": "code",
   "execution_count": 190,
   "id": "e9ea2cc7",
   "metadata": {},
   "outputs": [],
   "source": [
    "dfcopy = df.copy()\n",
    "dfcopy.set_index(\"is_genuine\", inplace = True)\n",
    "dfcopy.rename(index={0:'Faux'},inplace=True)\n",
    "dfcopy.rename(index={1:'Vrai'},inplace=True)\n",
    "\n",
    "#dfcopy.drop([\"is_genuine\"], axis = 1, inplace = True)"
   ]
  },
  {
   "cell_type": "code",
   "execution_count": 191,
   "id": "1fb3ba40",
   "metadata": {},
   "outputs": [
    {
     "data": {
      "text/plain": [
       "<matplotlib.collections.PathCollection at 0x17d35fa8760>"
      ]
     },
     "execution_count": 191,
     "metadata": {},
     "output_type": "execute_result"
    },
    {
     "data": {
      "image/png": "[encoded data removed]",
      "text/plain": [
       "<Figure size 720x720 with 1 Axes>"
      ]
     },
     "metadata": {
      "needs_background": "light"
     },
     "output_type": "display_data"
    }
   ],
   "source": [
    "from sklearn.decomposition import PCA\n",
    "\n",
    "pcamodel = PCA(n_components = 2)\n",
    "df_pca = pcamodel.fit_transform(dfcopy)\n",
    "\n",
    "plt.figure(figsize=(10,10))\n",
    "plt.scatter(df_pca[:,0], df_pca[:,1])"
   ]
  },
  {
   "cell_type": "code",
   "execution_count": 192,
   "id": "d51d6a8e",
   "metadata": {},
   "outputs": [
    {
     "data": {
      "image/png": "[encoded data removed]",
      "text/plain": [
       "<Figure size 1440x1440 with 1 Axes>"
      ]
     },
     "metadata": {
      "needs_background": "light"
     },
     "output_type": "display_data"
    }
   ],
   "source": [
    "col = [\"PC1\", \"PC2\"]\n",
    "df_pca = pd.DataFrame(data = df_pca, columns=col, index = dfcopy.index)\n",
    "\n",
    "import matplotlib.pyplot as plt\n",
    "  \n",
    "x = df_pca.iloc[:,0]\n",
    "y = df_pca.iloc[:,1]\n",
    "text = df_pca.index\n",
    "\n",
    "plt.figure(figsize=(20,20))\n",
    "\n",
    "plt.scatter(x, y)\n",
    "\n",
    "for i in range(len(x)):\n",
    "    plt.annotate(text[i], (x[i], y[i]))\n",
    "  \n",
    "plt.show()"
   ]
  },
  {
   "cell_type": "markdown",
   "id": "762c61b5",
   "metadata": {},
   "source": [
    "### K-Means"
   ]
  },
  {
   "cell_type": "code",
   "execution_count": 193,
   "id": "af4f5793",
   "metadata": {},
   "outputs": [
    {
     "name": "stderr",
     "output_type": "stream",
     "text": [
      "No artists with labels found to put in legend.  Note that artists whose label start with an underscore are ignored when legend() is called with no argument.\n"
     ]
    },
    {
     "name": "stdout",
     "output_type": "stream",
     "text": [
      "[1 1 1 ... 1 1 1]\n"
     ]
    },
    {
     "data": {
      "image/png": "[encoded data removed]",
      "text/plain": [
       "<Figure size 720x720 with 1 Axes>"
      ]
     },
     "metadata": {
      "needs_background": "light"
     },
     "output_type": "display_data"
    }
   ],
   "source": [
    "from sklearn.cluster import KMeans\n",
    "\n",
    "kmeansmodel = KMeans(n_clusters = 2)\n",
    "centroid = kmeansmodel.fit_predict(df_pca.values)\n",
    "df_pca['Cluster'] = centroid\n",
    "print(centroid)\n",
    "\n",
    "plt.figure(figsize=(10,10))\n",
    "plt.scatter(x = df_pca.values[centroid == 0,0], y = df_pca.values[centroid == 0,1], s = 50, c = \"red\")\n",
    "plt.scatter(x = df_pca.values[centroid == 1,0], y = df_pca.values[centroid == 1,1], s = 50, c = \"blue\")\n",
    "plt.legend()\n",
    "plt.scatter(kmeansmodel.cluster_centers_[:,0], kmeansmodel.cluster_centers_[:,1], s = 300, c = \"black\", marker = \"*\", label = \"Centroids\")\n",
    "\n",
    "plt.show()"
   ]
  },
  {
   "cell_type": "markdown",
   "id": "819563f7",
   "metadata": {},
   "source": [
    "### Evaluation of the K-Means"
   ]
  },
  {
   "cell_type": "code",
   "execution_count": 194,
   "id": "66e7040b",
   "metadata": {},
   "outputs": [
    {
     "data": {
      "text/plain": [
       "array([1, 1, 1, ..., 1, 1, 1])"
      ]
     },
     "execution_count": 194,
     "metadata": {},
     "output_type": "execute_result"
    }
   ],
   "source": [
    "centroid"
   ]
  },
  {
   "cell_type": "code",
   "execution_count": 195,
   "id": "dfaa3e92",
   "metadata": {},
   "outputs": [
    {
     "data": {
      "text/plain": [
       "array([[ 1.37201771,  0.02982503],\n",
       "       [-0.64961939, -0.01412148]])"
      ]
     },
     "execution_count": 195,
     "metadata": {},
     "output_type": "execute_result"
    }
   ],
   "source": [
    "kmeansmodel.cluster_centers_"
   ]
  },
  {
   "cell_type": "code",
   "execution_count": 196,
   "id": "f9539546",
   "metadata": {},
   "outputs": [
    {
     "data": {
      "text/html": [
       "<div>\n",
       "<style scoped>\n",
       "    .dataframe tbody tr th:only-of-type {\n",
       "        vertical-align: middle;\n",
       "    }\n",
       "\n",
       "    .dataframe tbody tr th {\n",
       "        vertical-align: top;\n",
       "    }\n",
       "\n",
       "    .dataframe thead th {\n",
       "        text-align: right;\n",
       "    }\n",
       "</style>\n",
       "<table border=\"1\" class=\"dataframe\">\n",
       "  <thead>\n",
       "    <tr style=\"text-align: right;\">\n",
       "      <th>col_0</th>\n",
       "      <th>0</th>\n",
       "      <th>1</th>\n",
       "    </tr>\n",
       "    <tr>\n",
       "      <th>is_genuine</th>\n",
       "      <th></th>\n",
       "      <th></th>\n",
       "    </tr>\n",
       "  </thead>\n",
       "  <tbody>\n",
       "    <tr>\n",
       "      <th>0</th>\n",
       "      <td>480</td>\n",
       "      <td>20</td>\n",
       "    </tr>\n",
       "    <tr>\n",
       "      <th>1</th>\n",
       "      <td>2</td>\n",
       "      <td>998</td>\n",
       "    </tr>\n",
       "  </tbody>\n",
       "</table>\n",
       "</div>"
      ],
      "text/plain": [
       "col_0         0    1\n",
       "is_genuine          \n",
       "0           480   20\n",
       "1             2  998"
      ]
     },
     "execution_count": 196,
     "metadata": {},
     "output_type": "execute_result"
    }
   ],
   "source": [
    "pd.crosstab(df[\"is_genuine\"], kmeansmodel.labels_)"
   ]
  },
  {
   "cell_type": "code",
   "execution_count": 197,
   "id": "5a803939",
   "metadata": {},
   "outputs": [
    {
     "data": {
      "text/plain": [
       "array([[480,  20],\n",
       "       [  2, 998]], dtype=int64)"
      ]
     },
     "execution_count": 197,
     "metadata": {},
     "output_type": "execute_result"
    }
   ],
   "source": [
    "from sklearn.metrics import confusion_matrix\n",
    "\n",
    "confusion_matrix(df.is_genuine, kmeansmodel.labels_)"
   ]
  },
  {
   "cell_type": "code",
   "execution_count": 198,
   "id": "c8ea31e1",
   "metadata": {},
   "outputs": [
    {
     "data": {
      "text/plain": [
       "(480, 20, 2, 998)"
      ]
     },
     "execution_count": 198,
     "metadata": {},
     "output_type": "execute_result"
    }
   ],
   "source": [
    "tn, fp, fn, tp = confusion_matrix(df.is_genuine, kmeansmodel.labels_).ravel()\n",
    "(tn, fp, fn, tp)"
   ]
  },
  {
   "cell_type": "code",
   "execution_count": 199,
   "id": "ff2f8cb8",
   "metadata": {},
   "outputs": [
    {
     "name": "stdout",
     "output_type": "stream",
     "text": [
      "Silhouetter Score: 0.52\n"
     ]
    }
   ],
   "source": [
    "from sklearn.metrics import silhouette_score\n",
    "\n",
    "kmeansmodel.fit_predict(dfcopy)\n",
    "\n",
    "score = silhouette_score(dfcopy, kmeansmodel.labels_, metric=\"euclidean\")\n",
    "\n",
    "print('Silhouetter Score: %.2f' % score)"
   ]
  },
  {
   "cell_type": "markdown",
   "id": "5dc4ecb2",
   "metadata": {},
   "source": [
    "***"
   ]
  },
  {
   "cell_type": "markdown",
   "id": "56b5592d",
   "metadata": {},
   "source": [
    "### Save The Model"
   ]
  },
  {
   "cell_type": "code",
   "execution_count": 200,
   "id": "d5095431",
   "metadata": {},
   "outputs": [
    {
     "data": {
      "text/plain": [
       "['kmmodel.sav']"
      ]
     },
     "execution_count": 200,
     "metadata": {},
     "output_type": "execute_result"
    }
   ],
   "source": [
    "filename = 'kmmodel.sav'\n",
    "joblib.dump(kmeansmodel, filename)"
   ]
  },
  {
   "cell_type": "code",
   "execution_count": null,
   "id": "667f16fb",
   "metadata": {},
   "outputs": [],
   "source": []
  },
  {
   "cell_type": "code",
   "execution_count": null,
   "id": "e9d6c6bf",
   "metadata": {},
   "outputs": [],
   "source": []
  },
  {
   "cell_type": "code",
   "execution_count": null,
   "id": "19ed0879",
   "metadata": {},
   "outputs": [],
   "source": []
  },
  {
   "cell_type": "code",
   "execution_count": null,
   "id": "21c8681e",
   "metadata": {},
   "outputs": [],
   "source": []
  }
 ],
 "metadata": {
  "kernelspec": {
   "display_name": "Python 3 (ipykernel)",
   "language": "python",
   "name": "python3"
  },
  "language_info": {
   "codemirror_mode": {
    "name": "ipython",
    "version": 3
   },
   "file_extension": ".py",
   "mimetype": "text/x-python",
   "name": "python",
   "nbconvert_exporter": "python",
   "pygments_lexer": "ipython3",
   "version": "3.9.12"
  },
  "latex_envs": {
   "LaTeX_envs_menu_present": true,
   "autoclose": false,
   "autocomplete": true,
   "bibliofile": "biblio.bib",
   "cite_by": "apalike",
   "current_citInitial": 1,
   "eqLabelWithNumbers": true,
   "eqNumInitial": 1,
   "hotkeys": {
    "equation": "Ctrl-E",
    "itemize": "Ctrl-I"
   },
   "labels_anchors": false,
   "latex_user_defs": false,
   "report_style_numbering": false,
   "user_envs_cfg": false
  }
 },
 "nbformat": 4,
 "nbformat_minor": 5
}
